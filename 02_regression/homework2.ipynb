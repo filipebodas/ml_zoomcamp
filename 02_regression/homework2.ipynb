{
 "cells": [
  {
   "cell_type": "code",
   "execution_count": 1,
   "metadata": {},
   "outputs": [],
   "source": [
    "import numpy as np\n",
    "import pandas as pd\n",
    "import matplotlib.pyplot as plt\n",
    "import seaborn as sns\n",
    "%matplotlib inline"
   ]
  },
  {
   "cell_type": "markdown",
   "metadata": {},
   "source": [
    "### Get the data"
   ]
  },
  {
   "cell_type": "code",
   "execution_count": 2,
   "metadata": {},
   "outputs": [],
   "source": [
    "df = pd.read_csv('housing.csv')"
   ]
  },
  {
   "cell_type": "code",
   "execution_count": 3,
   "metadata": {},
   "outputs": [
    {
     "data": {
      "text/html": [
       "<div>\n",
       "<style scoped>\n",
       "    .dataframe tbody tr th:only-of-type {\n",
       "        vertical-align: middle;\n",
       "    }\n",
       "\n",
       "    .dataframe tbody tr th {\n",
       "        vertical-align: top;\n",
       "    }\n",
       "\n",
       "    .dataframe thead th {\n",
       "        text-align: right;\n",
       "    }\n",
       "</style>\n",
       "<table border=\"1\" class=\"dataframe\">\n",
       "  <thead>\n",
       "    <tr style=\"text-align: right;\">\n",
       "      <th></th>\n",
       "      <th>longitude</th>\n",
       "      <th>latitude</th>\n",
       "      <th>housing_median_age</th>\n",
       "      <th>total_rooms</th>\n",
       "      <th>total_bedrooms</th>\n",
       "      <th>population</th>\n",
       "      <th>households</th>\n",
       "      <th>median_income</th>\n",
       "      <th>median_house_value</th>\n",
       "      <th>ocean_proximity</th>\n",
       "    </tr>\n",
       "  </thead>\n",
       "  <tbody>\n",
       "    <tr>\n",
       "      <th>0</th>\n",
       "      <td>-122.23</td>\n",
       "      <td>37.88</td>\n",
       "      <td>41.0</td>\n",
       "      <td>880.0</td>\n",
       "      <td>129.0</td>\n",
       "      <td>322.0</td>\n",
       "      <td>126.0</td>\n",
       "      <td>8.3252</td>\n",
       "      <td>452600.0</td>\n",
       "      <td>NEAR BAY</td>\n",
       "    </tr>\n",
       "    <tr>\n",
       "      <th>1</th>\n",
       "      <td>-122.22</td>\n",
       "      <td>37.86</td>\n",
       "      <td>21.0</td>\n",
       "      <td>7099.0</td>\n",
       "      <td>1106.0</td>\n",
       "      <td>2401.0</td>\n",
       "      <td>1138.0</td>\n",
       "      <td>8.3014</td>\n",
       "      <td>358500.0</td>\n",
       "      <td>NEAR BAY</td>\n",
       "    </tr>\n",
       "    <tr>\n",
       "      <th>2</th>\n",
       "      <td>-122.24</td>\n",
       "      <td>37.85</td>\n",
       "      <td>52.0</td>\n",
       "      <td>1467.0</td>\n",
       "      <td>190.0</td>\n",
       "      <td>496.0</td>\n",
       "      <td>177.0</td>\n",
       "      <td>7.2574</td>\n",
       "      <td>352100.0</td>\n",
       "      <td>NEAR BAY</td>\n",
       "    </tr>\n",
       "    <tr>\n",
       "      <th>3</th>\n",
       "      <td>-122.25</td>\n",
       "      <td>37.85</td>\n",
       "      <td>52.0</td>\n",
       "      <td>1274.0</td>\n",
       "      <td>235.0</td>\n",
       "      <td>558.0</td>\n",
       "      <td>219.0</td>\n",
       "      <td>5.6431</td>\n",
       "      <td>341300.0</td>\n",
       "      <td>NEAR BAY</td>\n",
       "    </tr>\n",
       "    <tr>\n",
       "      <th>4</th>\n",
       "      <td>-122.25</td>\n",
       "      <td>37.85</td>\n",
       "      <td>52.0</td>\n",
       "      <td>1627.0</td>\n",
       "      <td>280.0</td>\n",
       "      <td>565.0</td>\n",
       "      <td>259.0</td>\n",
       "      <td>3.8462</td>\n",
       "      <td>342200.0</td>\n",
       "      <td>NEAR BAY</td>\n",
       "    </tr>\n",
       "  </tbody>\n",
       "</table>\n",
       "</div>"
      ],
      "text/plain": [
       "   longitude  latitude  housing_median_age  total_rooms  total_bedrooms  \\\n",
       "0    -122.23     37.88                41.0        880.0           129.0   \n",
       "1    -122.22     37.86                21.0       7099.0          1106.0   \n",
       "2    -122.24     37.85                52.0       1467.0           190.0   \n",
       "3    -122.25     37.85                52.0       1274.0           235.0   \n",
       "4    -122.25     37.85                52.0       1627.0           280.0   \n",
       "\n",
       "   population  households  median_income  median_house_value ocean_proximity  \n",
       "0       322.0       126.0         8.3252            452600.0        NEAR BAY  \n",
       "1      2401.0      1138.0         8.3014            358500.0        NEAR BAY  \n",
       "2       496.0       177.0         7.2574            352100.0        NEAR BAY  \n",
       "3       558.0       219.0         5.6431            341300.0        NEAR BAY  \n",
       "4       565.0       259.0         3.8462            342200.0        NEAR BAY  "
      ]
     },
     "execution_count": 3,
     "metadata": {},
     "output_type": "execute_result"
    }
   ],
   "source": [
    "df.head()"
   ]
  },
  {
   "cell_type": "markdown",
   "metadata": {},
   "source": [
    "### Data preparation"
   ]
  },
  {
   "cell_type": "code",
   "execution_count": 5,
   "metadata": {},
   "outputs": [
    {
     "data": {
      "text/plain": [
       "array(['NEAR BAY', '<1H OCEAN', 'INLAND', 'NEAR OCEAN', 'ISLAND'],\n",
       "      dtype=object)"
      ]
     },
     "execution_count": 5,
     "metadata": {},
     "output_type": "execute_result"
    }
   ],
   "source": [
    "df['ocean_proximity'].unique()"
   ]
  },
  {
   "cell_type": "code",
   "execution_count": 11,
   "metadata": {},
   "outputs": [
    {
     "data": {
      "text/plain": [
       "['longitude',\n",
       " 'latitude',\n",
       " 'housing_median_age',\n",
       " 'total_rooms',\n",
       " 'total_bedrooms',\n",
       " 'population',\n",
       " 'households',\n",
       " 'median_income',\n",
       " 'median_house_value']"
      ]
     },
     "execution_count": 11,
     "metadata": {},
     "output_type": "execute_result"
    }
   ],
   "source": [
    "columns = list(df.dtypes[df.dtypes == 'float64'].index)\n",
    "\n",
    "columns"
   ]
  },
  {
   "cell_type": "code",
   "execution_count": 33,
   "metadata": {},
   "outputs": [
    {
     "data": {
      "text/html": [
       "<div>\n",
       "<style scoped>\n",
       "    .dataframe tbody tr th:only-of-type {\n",
       "        vertical-align: middle;\n",
       "    }\n",
       "\n",
       "    .dataframe tbody tr th {\n",
       "        vertical-align: top;\n",
       "    }\n",
       "\n",
       "    .dataframe thead th {\n",
       "        text-align: right;\n",
       "    }\n",
       "</style>\n",
       "<table border=\"1\" class=\"dataframe\">\n",
       "  <thead>\n",
       "    <tr style=\"text-align: right;\">\n",
       "      <th></th>\n",
       "      <th>longitude</th>\n",
       "      <th>latitude</th>\n",
       "      <th>housing_median_age</th>\n",
       "      <th>total_rooms</th>\n",
       "      <th>total_bedrooms</th>\n",
       "      <th>population</th>\n",
       "      <th>households</th>\n",
       "      <th>median_income</th>\n",
       "      <th>median_house_value</th>\n",
       "    </tr>\n",
       "  </thead>\n",
       "  <tbody>\n",
       "    <tr>\n",
       "      <th>0</th>\n",
       "      <td>-122.23</td>\n",
       "      <td>37.88</td>\n",
       "      <td>41.0</td>\n",
       "      <td>880.0</td>\n",
       "      <td>129.0</td>\n",
       "      <td>322.0</td>\n",
       "      <td>126.0</td>\n",
       "      <td>8.3252</td>\n",
       "      <td>452600.0</td>\n",
       "    </tr>\n",
       "    <tr>\n",
       "      <th>1</th>\n",
       "      <td>-122.22</td>\n",
       "      <td>37.86</td>\n",
       "      <td>21.0</td>\n",
       "      <td>7099.0</td>\n",
       "      <td>1106.0</td>\n",
       "      <td>2401.0</td>\n",
       "      <td>1138.0</td>\n",
       "      <td>8.3014</td>\n",
       "      <td>358500.0</td>\n",
       "    </tr>\n",
       "    <tr>\n",
       "      <th>2</th>\n",
       "      <td>-122.24</td>\n",
       "      <td>37.85</td>\n",
       "      <td>52.0</td>\n",
       "      <td>1467.0</td>\n",
       "      <td>190.0</td>\n",
       "      <td>496.0</td>\n",
       "      <td>177.0</td>\n",
       "      <td>7.2574</td>\n",
       "      <td>352100.0</td>\n",
       "    </tr>\n",
       "    <tr>\n",
       "      <th>3</th>\n",
       "      <td>-122.25</td>\n",
       "      <td>37.85</td>\n",
       "      <td>52.0</td>\n",
       "      <td>1274.0</td>\n",
       "      <td>235.0</td>\n",
       "      <td>558.0</td>\n",
       "      <td>219.0</td>\n",
       "      <td>5.6431</td>\n",
       "      <td>341300.0</td>\n",
       "    </tr>\n",
       "    <tr>\n",
       "      <th>4</th>\n",
       "      <td>-122.25</td>\n",
       "      <td>37.85</td>\n",
       "      <td>52.0</td>\n",
       "      <td>1627.0</td>\n",
       "      <td>280.0</td>\n",
       "      <td>565.0</td>\n",
       "      <td>259.0</td>\n",
       "      <td>3.8462</td>\n",
       "      <td>342200.0</td>\n",
       "    </tr>\n",
       "    <tr>\n",
       "      <th>...</th>\n",
       "      <td>...</td>\n",
       "      <td>...</td>\n",
       "      <td>...</td>\n",
       "      <td>...</td>\n",
       "      <td>...</td>\n",
       "      <td>...</td>\n",
       "      <td>...</td>\n",
       "      <td>...</td>\n",
       "      <td>...</td>\n",
       "    </tr>\n",
       "    <tr>\n",
       "      <th>20635</th>\n",
       "      <td>-121.09</td>\n",
       "      <td>39.48</td>\n",
       "      <td>25.0</td>\n",
       "      <td>1665.0</td>\n",
       "      <td>374.0</td>\n",
       "      <td>845.0</td>\n",
       "      <td>330.0</td>\n",
       "      <td>1.5603</td>\n",
       "      <td>78100.0</td>\n",
       "    </tr>\n",
       "    <tr>\n",
       "      <th>20636</th>\n",
       "      <td>-121.21</td>\n",
       "      <td>39.49</td>\n",
       "      <td>18.0</td>\n",
       "      <td>697.0</td>\n",
       "      <td>150.0</td>\n",
       "      <td>356.0</td>\n",
       "      <td>114.0</td>\n",
       "      <td>2.5568</td>\n",
       "      <td>77100.0</td>\n",
       "    </tr>\n",
       "    <tr>\n",
       "      <th>20637</th>\n",
       "      <td>-121.22</td>\n",
       "      <td>39.43</td>\n",
       "      <td>17.0</td>\n",
       "      <td>2254.0</td>\n",
       "      <td>485.0</td>\n",
       "      <td>1007.0</td>\n",
       "      <td>433.0</td>\n",
       "      <td>1.7000</td>\n",
       "      <td>92300.0</td>\n",
       "    </tr>\n",
       "    <tr>\n",
       "      <th>20638</th>\n",
       "      <td>-121.32</td>\n",
       "      <td>39.43</td>\n",
       "      <td>18.0</td>\n",
       "      <td>1860.0</td>\n",
       "      <td>409.0</td>\n",
       "      <td>741.0</td>\n",
       "      <td>349.0</td>\n",
       "      <td>1.8672</td>\n",
       "      <td>84700.0</td>\n",
       "    </tr>\n",
       "    <tr>\n",
       "      <th>20639</th>\n",
       "      <td>-121.24</td>\n",
       "      <td>39.37</td>\n",
       "      <td>16.0</td>\n",
       "      <td>2785.0</td>\n",
       "      <td>616.0</td>\n",
       "      <td>1387.0</td>\n",
       "      <td>530.0</td>\n",
       "      <td>2.3886</td>\n",
       "      <td>89400.0</td>\n",
       "    </tr>\n",
       "  </tbody>\n",
       "</table>\n",
       "<p>20640 rows × 9 columns</p>\n",
       "</div>"
      ],
      "text/plain": [
       "       longitude  latitude  housing_median_age  total_rooms  total_bedrooms  \\\n",
       "0        -122.23     37.88                41.0        880.0           129.0   \n",
       "1        -122.22     37.86                21.0       7099.0          1106.0   \n",
       "2        -122.24     37.85                52.0       1467.0           190.0   \n",
       "3        -122.25     37.85                52.0       1274.0           235.0   \n",
       "4        -122.25     37.85                52.0       1627.0           280.0   \n",
       "...          ...       ...                 ...          ...             ...   \n",
       "20635    -121.09     39.48                25.0       1665.0           374.0   \n",
       "20636    -121.21     39.49                18.0        697.0           150.0   \n",
       "20637    -121.22     39.43                17.0       2254.0           485.0   \n",
       "20638    -121.32     39.43                18.0       1860.0           409.0   \n",
       "20639    -121.24     39.37                16.0       2785.0           616.0   \n",
       "\n",
       "       population  households  median_income  median_house_value  \n",
       "0           322.0       126.0         8.3252            452600.0  \n",
       "1          2401.0      1138.0         8.3014            358500.0  \n",
       "2           496.0       177.0         7.2574            352100.0  \n",
       "3           558.0       219.0         5.6431            341300.0  \n",
       "4           565.0       259.0         3.8462            342200.0  \n",
       "...           ...         ...            ...                 ...  \n",
       "20635       845.0       330.0         1.5603             78100.0  \n",
       "20636       356.0       114.0         2.5568             77100.0  \n",
       "20637      1007.0       433.0         1.7000             92300.0  \n",
       "20638       741.0       349.0         1.8672             84700.0  \n",
       "20639      1387.0       530.0         2.3886             89400.0  \n",
       "\n",
       "[20640 rows x 9 columns]"
      ]
     },
     "execution_count": 33,
     "metadata": {},
     "output_type": "execute_result"
    }
   ],
   "source": [
    "df = df[columns]\n",
    "df"
   ]
  },
  {
   "cell_type": "markdown",
   "metadata": {},
   "source": [
    "### Exploratory data analysis"
   ]
  },
  {
   "cell_type": "code",
   "execution_count": 34,
   "metadata": {},
   "outputs": [
    {
     "name": "stdout",
     "output_type": "stream",
     "text": [
      "longitude\n",
      "844\n",
      "[-122.23 -122.22 -122.24 -122.25 -122.26 -122.27 -122.28 -122.29 -122.3\n",
      " -122.21 -122.2  -122.19 -122.18 -122.13 -122.16 -122.17 -122.15 -122.14\n",
      " -122.12 -122.33 -122.34 -122.06 -122.07 -122.08 -122.09 -122.1  -122.11\n",
      " -122.03 -121.97 -122.02 -122.04 -122.05 -121.99 -122.01 -121.96 -121.98\n",
      " -122.   -121.93 -121.94 -121.95 -121.92 -121.89 -121.91 -121.9  -121.88\n",
      " -121.87 -121.85 -121.86 -121.84 -121.82 -121.77 -121.62 -121.61 -121.72\n",
      " -121.73 -121.75 -121.8  -121.76 -121.78 -121.79 -119.78 -119.93 -120.\n",
      " -120.56 -120.59 -120.55 -120.25 -120.79 -120.8  -120.65 -120.76 -120.88\n",
      " -120.69 -120.93 -120.97 -120.87 -120.98 -120.72 -120.77 -120.66 -120.62\n",
      " -120.71 -121.83 -121.81 -121.74 -121.68 -121.54 -121.51 -121.59 -121.58\n",
      " -121.6  -121.63 -121.57 -121.65 -121.64 -121.71 -121.66 -121.56 -121.5\n",
      " -121.41 -121.39 -121.24 -121.19 -121.36 -121.46 -121.49 -121.44 -121.47\n",
      " -121.53 -121.52 -121.55 -121.67 -121.69 -121.7  -120.46 -120.54 -120.67\n",
      " -120.9  -120.91 -120.57 -120.43 -120.42 -120.41 -120.36 -120.34 -120.33\n",
      " -120.37 -120.27 -120.19 -122.51 -122.32 -122.36 -122.31 -122.39 -122.37\n",
      " -122.41 -122.35 -122.38 -122.42 -124.17 -124.3  -124.23 -124.21 -124.19\n",
      " -124.22 -124.16 -124.14 -124.15 -123.91 -123.83 -123.92 -119.94 -119.95\n",
      " -119.97 -119.98 -119.96 -119.99 -120.01 -120.02 -119.92 -120.04 -120.03\n",
      " -120.13 -120.16 -120.06 -120.1  -121.04 -120.92 -120.84 -120.81 -120.5\n",
      " -120.3  -121.09 -121.08 -121.07 -121.06 -121.   -121.01 -120.99 -121.02\n",
      " -120.95 -120.96 -120.86 -120.83 -120.78 -120.7  -120.58 -120.6  -120.63\n",
      " -120.44 -120.32 -120.08 -120.85 -119.81 -119.79 -119.8  -119.77 -119.82\n",
      " -119.83 -119.74 -119.76 -119.75 -119.69 -119.67 -119.73 -119.72 -119.71\n",
      " -119.63 -119.65 -119.68 -119.89 -119.87 -119.85 -119.84 -119.7  -119.86\n",
      " -119.9  -120.21 -120.05 -120.07 -119.91 -119.88 -119.64 -119.53 -119.58\n",
      " -119.59 -119.5  -119.57 -119.56 -119.55 -119.54 -119.52 -119.47 -119.41\n",
      " -119.43 -119.39 -119.4  -119.49 -119.61 -119.48 -119.46 -119.33 -119.21\n",
      " -118.94 -119.34 -119.28 -119.32 -118.91 -119.24 -119.25 -119.12 -119.31\n",
      " -119.44 -119.45 -119.6  -119.62 -120.09 -120.38 -120.35 -120.31 -120.18\n",
      " -120.22 -120.51 -120.39 -120.45 -122.74 -122.53 -124.18 -124.11 -124.13\n",
      " -124.06 -124.05 -124.02 -124.08 -124.09 -124.07 -124.1  -123.74 -123.76\n",
      " -123.85 -123.72 -123.63 -123.66 -123.52 -124.01 -124.   -123.98 -123.88\n",
      " -124.27 -123.96 -123.73 -124.03 -124.26 -124.35 -124.25 -123.84 -123.68\n",
      " -123.82 -123.75 -123.78 -115.52 -115.51 -115.46 -115.6  -115.73 -115.62\n",
      " -115.41 -115.59 -115.53 -115.54 -115.55 -115.56 -115.32 -115.39 -115.4\n",
      " -115.37 -115.38 -115.57 -115.49 -115.64 -115.69 -115.72 -115.58 -115.48\n",
      " -115.5  -116.05 -116.   -115.88 -115.9  -116.01 -115.99 -115.94 -115.98\n",
      " -115.91 -115.96 -115.95 -115.8  -114.73 -114.98 -114.65 -114.55 -114.63\n",
      " -114.66 -118.18 -118.43 -118.6  -118.45 -118.42 -118.4  -118.39 -118.3\n",
      " -117.9  -118.31 -118.05 -117.69 -117.02 -116.22 -119.02 -119.03 -119.05\n",
      " -119.04 -119.08 -119.07 -119.09 -119.11 -119.01 -118.99 -119.   -118.97\n",
      " -118.98 -118.96 -118.95 -118.92 -118.9  -118.87 -118.88 -118.93 -119.06\n",
      " -119.1  -119.13 -119.15 -119.16 -119.42 -119.19 -119.2  -119.18 -119.27\n",
      " -119.26 -119.38 -119.36 -119.35 -119.14 -119.29 -119.22 -119.23 -118.06\n",
      " -118.44 -118.47 -118.5  -118.59 -118.23 -118.33 -118.41 -118.48 -118.61\n",
      " -117.73 -117.66 -117.67 -117.68 -117.7  -117.64 -117.76 -117.81 -117.87\n",
      " -117.84 -117.74 -118.   -117.82 -117.79 -118.01 -117.98 -117.95 -117.99\n",
      " -118.27 -118.34 -117.65 -118.15 -118.17 -118.19 -118.16 -118.51 -118.66\n",
      " -118.46 -118.83 -118.85 -118.82 -119.66 -120.14 -120.12 -122.89 -122.9\n",
      " -122.91 -122.88 -123.07 -122.95 -122.92 -122.94 -122.99 -122.7  -122.87\n",
      " -122.86 -122.83 -122.79 -122.8  -122.78 -122.69 -122.73 -122.66 -122.65\n",
      " -122.52 -122.68 -122.63 -122.62 -122.61 -122.6  -122.64 -122.75 -122.71\n",
      " -122.85 -122.84 -122.77 -122.72 -122.48 -122.59 -122.5  -122.55 -121.11\n",
      " -121.03 -120.64 -120.49 -120.2  -118.28 -118.29 -118.35 -118.32 -118.36\n",
      " -118.38 -118.49 -118.52 -118.54 -118.55 -118.57 -118.53 -118.63 -118.62\n",
      " -118.64 -118.56 -118.58 -118.37 -118.65 -118.22 -118.2  -118.21 -118.24\n",
      " -118.25 -118.26 -117.71 -117.78 -117.8  -117.83 -117.93 -117.91 -117.89\n",
      " -117.88 -117.85 -117.86 -117.77 -117.75 -117.72 -117.92 -117.94 -117.97\n",
      " -117.96 -118.02 -118.03 -118.04 -118.07 -118.08 -118.09 -118.1  -118.11\n",
      " -118.12 -118.13 -118.14 -118.69 -118.67 -118.68 -118.76 -118.75 -118.72\n",
      " -118.78 -118.8  -118.84 -118.79 -118.74 -118.86 -118.7  -119.51 -120.26\n",
      " -120.29 -120.11 -122.49 -122.54 -122.58 -122.57 -122.56 -122.44 -122.45\n",
      " -122.47 -122.46 -122.93 -122.96 -122.81 -120.15 -123.15 -123.24 -123.23\n",
      " -123.47 -123.71 -123.58 -123.5  -123.64 -123.79 -123.8  -123.34 -123.4\n",
      " -123.32 -123.38 -123.35 -123.37 -123.36 -123.1  -123.11 -123.18 -123.22\n",
      " -123.21 -123.19 -123.2  -123.81 -123.7  -123.53 -123.69 -123.59 -123.54\n",
      " -123.39 -123.17 -123.16 -120.68 -120.75 -120.74 -120.73 -120.94 -120.89\n",
      " -120.61 -120.48 -120.47 -120.4  -120.24 -120.82 -121.16 -121.18 -119.3\n",
      " -121.43 -121.45 -121.42 -121.48 -121.31 -121.32 -121.33 -121.4  -121.23\n",
      " -121.25 -121.26 -121.12 -121.13 -121.2  -122.4  -121.1  -121.05 -121.22\n",
      " -121.14 -121.21 -121.15 -120.17 -120.23 -117.62 -117.6  -117.63 -117.55\n",
      " -117.59 -117.58 -117.49 -117.53 -117.61 -121.17 -121.27 -121.28 -121.3\n",
      " -121.29 -120.53 -117.35 -117.36 -117.37 -117.38 -117.39 -117.41 -117.4\n",
      " -117.44 -117.43 -117.42 -117.45 -117.5  -117.48 -117.47 -117.51 -117.52\n",
      " -117.56 -117.57 -117.46 -117.54 -117.33 -117.34 -117.26 -117.3  -117.28\n",
      " -117.32 -117.31 -117.29 -117.24 -117.23 -117.25 -117.21 -117.14 -117.27\n",
      " -117.22 -117.16 -117.13 -117.19 -117.17 -117.2  -117.07 -117.11 -117.08\n",
      " -117.18 -117.06 -117.09 -117.15 -117.12 -117.05 -116.96 -117.1  -116.99\n",
      " -116.91 -116.89 -116.95 -116.9  -116.92 -116.93 -116.94 -116.97 -116.98\n",
      " -117.01 -117.   -116.87 -116.88 -116.86 -117.04 -117.03 -116.79 -116.77\n",
      " -116.81 -116.75 -116.8  -116.71 -116.68 -116.74 -116.72 -116.48 -116.57\n",
      " -116.76 -116.42 -116.6  -116.69 -116.39 -116.51 -116.61 -116.44 -116.36\n",
      " -116.52 -116.53 -116.5  -116.47 -116.63 -116.54 -116.55 -116.49 -116.56\n",
      " -116.46 -116.43 -116.45 -116.4  -116.38 -116.33 -116.31 -116.37 -116.41\n",
      " -116.29 -116.3  -116.26 -116.25 -116.24 -116.21 -116.23 -116.2  -116.15\n",
      " -116.11 -116.17 -116.12 -115.84 -116.16 -116.19 -116.18 -116.08 -115.22\n",
      " -114.67 -114.49 -114.68 -114.56 -114.57 -114.59 -114.61 -114.6  -114.58\n",
      " -114.62 -121.38 -121.37 -121.35 -121.34 -115.93 -115.75 -116.14 -116.32\n",
      " -116.27 -116.35 -116.62 -116.73 -116.06 -116.09 -116.02 -115.85 -114.94\n",
      " -114.47 -114.31 -114.64 -116.85 -116.83 -116.82 -116.84 -116.78 -116.58\n",
      " -116.66 -116.67 -116.34 -116.28 -122.43 -120.52 -122.76 -123.26 -123.41\n",
      " -123.08 -122.67 -122.82 -123.04 -123.02 -122.98 -123.01 -123.   -122.97\n",
      " -123.03 -123.49 -123.25 -123.48 -123.28 -123.13 -123.12 -123.43 -119.37\n",
      " -118.73 -120.28 -119.17 -118.89 -118.81 -118.77 -118.71]\n",
      "latitude\n",
      "862\n",
      "[37.88 37.86 37.85 37.84 37.83 37.82 37.81 37.8  37.79 37.77 37.78 37.76\n",
      " 37.75 37.74 37.73 37.9  37.89 37.87 37.72 37.71 37.7  37.69 37.68 37.64\n",
      " 37.63 37.66 37.65 37.67 37.61 37.62 37.6  37.59 37.58 37.57 37.49 37.52\n",
      " 37.56 37.55 37.54 37.53 37.51 37.48 37.47 37.5  38.69 38.72 38.52 38.48\n",
      " 38.45 38.46 38.43 38.55 38.54 38.51 38.5  38.47 38.44 38.42 38.37 38.34\n",
      " 38.32 38.26 38.38 38.4  38.39 38.36 38.31 39.76 39.78 39.77 39.74 39.75\n",
      " 39.73 39.71 39.72 39.7  39.82 39.79 39.68 39.64 39.66 39.59 39.88 40.06\n",
      " 39.97 39.86 39.83 39.8  39.69 39.61 39.65 39.55 39.52 39.53 39.6  39.54\n",
      " 39.5  39.49 39.51 39.48 39.47 39.45 39.44 39.43 39.4  39.39 39.33 39.37\n",
      " 39.35 39.34 39.32 39.36 39.38 39.42 39.41 38.15 38.12 38.09 38.07 37.97\n",
      " 38.24 38.2  38.16 38.11 38.28 38.19 38.25 38.41 38.33 38.35 38.21 38.23\n",
      " 38.29 39.03 38.99 39.   39.15 39.22 39.25 39.1  39.13 39.31 39.3  39.21\n",
      " 38.03 38.04 38.   37.98 37.99 37.93 37.94 37.95 37.96 37.91 38.01 38.02\n",
      " 38.05 37.92 38.06 41.8  41.75 41.77 41.78 41.73 41.76 41.74 41.95 41.92\n",
      " 41.84 41.81 41.68 41.88 41.54 38.96 38.95 38.94 38.93 38.92 38.91 38.89\n",
      " 38.9  38.88 38.87 38.84 38.76 38.86 39.06 39.04 39.01 38.81 38.83 38.85\n",
      " 38.68 38.67 38.66 38.7  38.58 38.73 38.65 38.62 38.79 38.77 38.71 38.75\n",
      " 38.74 38.6  38.61 38.57 38.53 38.8  38.63 36.73 36.74 36.72 36.75 36.71\n",
      " 36.7  36.68 36.69 36.65 36.64 36.62 36.63 36.59 36.77 36.76 36.8  36.79\n",
      " 36.81 36.78 36.66 36.83 36.85 36.82 36.84 36.86 36.91 36.87 36.94 36.88\n",
      " 36.89 37.1  37.02 37.   37.25 37.13 37.09 37.12 37.11 37.06 36.61 36.6\n",
      " 36.58 36.57 36.56 36.55 36.52 36.51 36.53 36.44 36.46 36.43 36.54 36.45\n",
      " 36.34 36.16 36.21 36.19 36.29 36.18 36.14 36.15 36.13 36.49 36.97 40.8\n",
      " 40.79 40.78 40.77 40.75 40.76 40.81 40.86 40.85 40.87 40.88 40.9  40.66\n",
      " 40.91 41.03 41.32 41.09 41.11 41.3  41.01 41.36 41.13 41.06 41.04 40.97\n",
      " 40.92 40.89 40.93 41.02 40.99 40.95 40.94 40.72 40.73 40.74 40.67 40.69\n",
      " 40.62 40.6  40.59 40.55 40.57 40.48 40.58 40.5  40.44 40.47 40.45 40.54\n",
      " 40.28 40.22 40.24 40.16 40.12 40.11 40.05 33.12 33.13 33.19 33.24 33.2\n",
      " 33.09 33.04 32.99 32.96 32.98 32.97 32.82 32.76 32.86 32.81 32.85 32.84\n",
      " 32.83 32.87 32.8  32.79 32.75 32.77 32.73 32.78 32.69 32.7  32.67 32.68\n",
      " 33.33 32.93 32.74 33.41 33.4  33.38 33.32 33.36 33.34 33.3  33.28 33.26\n",
      " 33.43 33.07 33.35 37.35 37.4  37.39 37.37 37.36 37.17 36.95 36.4  36.\n",
      " 35.42 35.45 35.44 35.43 35.41 35.4  35.39 35.38 35.37 35.34 35.36 35.35\n",
      " 35.32 35.33 35.3  35.31 35.27 35.22 35.24 35.28 34.82 34.83 34.81 34.95\n",
      " 35.06 35.07 35.19 35.17 35.16 35.14 35.15 35.13 35.5  35.52 35.49 35.51\n",
      " 35.6  35.55 35.58 35.59 35.62 35.65 35.76 35.64 35.68 35.67 35.78 35.77\n",
      " 35.75 35.79 35.74 35.47 35.72 35.7  35.48 35.63 35.61 35.73 35.54 35.05\n",
      " 35.03 35.21 35.12 35.08 35.1  34.92 34.86 34.99 35.   34.87 35.04 35.2\n",
      " 35.26 35.23 36.41 36.37 36.38 36.32 36.31 36.3  36.33 36.27 36.28 36.35\n",
      " 36.36 36.25 36.11 36.09 36.1  36.08 36.2  35.99 36.02 36.04 36.01 35.87\n",
      " 35.91 39.23 39.18 39.17 39.14 39.12 39.11 39.09 39.08 39.02 39.07 39.05\n",
      " 38.98 38.97 38.82 38.78 41.07 41.12 40.98 40.63 40.65 40.51 40.35 40.43\n",
      " 40.42 40.41 40.36 40.37 40.38 40.29 40.31 40.17 40.26 39.92 34.27 34.26\n",
      " 34.25 34.24 34.22 34.21 34.28 34.29 34.32 34.33 34.31 34.3  34.23 34.2\n",
      " 34.19 34.18 34.17 34.16 34.15 34.14 34.13 34.12 34.11 34.1  34.09 34.08\n",
      " 34.07 34.06 34.05 34.04 34.03 34.02 34.01 34.   33.99 33.98 33.97 33.94\n",
      " 33.95 33.96 33.93 33.92 33.91 33.9  33.88 33.89 33.87 33.86 33.85 33.84\n",
      " 33.83 33.82 33.81 33.8  33.79 33.78 33.77 33.76 33.75 33.74 33.73 33.72\n",
      " 33.69 33.71 33.67 33.68 34.71 34.63 34.58 34.74 34.68 34.69 34.65 34.7\n",
      " 34.67 34.72 34.76 34.77 34.66 34.62 34.73 34.59 34.57 34.53 34.61 34.6\n",
      " 34.56 34.64 34.55 34.51 34.43 34.41 34.52 34.5  34.46 34.44 34.49 34.48\n",
      " 34.45 34.4  34.47 34.42 34.39 34.38 34.37 34.36 37.34 37.32 37.29 37.21\n",
      " 37.38 37.31 37.33 37.23 37.19 37.27 37.04 36.99 36.93 36.98 36.96 36.9\n",
      " 36.92 38.1  38.14 38.13 38.08 38.18 37.43 37.46 39.81 39.67 39.46 39.26\n",
      " 39.28 39.2  39.16 37.44 37.42 37.41 37.2  37.26 37.16 37.3  37.28 37.18\n",
      " 37.01 37.08 37.07 37.05 37.03 41.31 41.35 41.82 41.79 41.4  41.61 36.67\n",
      " 36.5  36.47 36.48 36.42 36.24 35.95 35.94 36.06 38.3  38.27 38.22 38.17\n",
      " 38.49 38.56 38.59 39.24 39.19 39.27 39.29 33.61 33.62 33.6  33.63 33.59\n",
      " 33.58 33.57 33.65 33.64 33.54 33.55 33.56 33.51 33.52 33.66 33.53 33.42\n",
      " 33.47 33.45 33.46 33.44 33.48 33.49 33.5  33.7  39.93 39.9  39.95 39.96\n",
      " 40.02 40.08 40.14 40.01 40.13 40.27 40.23 40.19 40.3  40.25 38.64 34.54\n",
      " 34.34 34.91 34.9  34.89 34.35 34.85 34.84 34.98 34.75 34.88 34.94 34.96\n",
      " 32.72 32.71 32.66 32.88 32.92 32.89 32.91 32.9  32.94 32.95 32.59 32.58\n",
      " 32.57 32.56 32.55 32.54 32.63 32.65 32.64 32.62 32.61 32.6  33.01 33.\n",
      " 33.02 33.03 33.05 33.06 33.08 33.17 33.16 33.15 33.1  33.11 33.18 33.14\n",
      " 33.21 33.23 33.22 33.25 33.31 33.29 33.39 33.37 33.27 35.69 35.56 35.29\n",
      " 35.25 35.11 35.18 35.02 35.46 37.45 37.24 34.93 34.97 37.22 37.15 37.14\n",
      " 40.56 40.61 40.64 40.52 40.53 40.49 40.71 40.68 40.46 40.4  40.39 40.82\n",
      " 39.56 39.63 41.86 41.66 41.6  41.7  41.69 41.72 41.63 41.53 41.48 41.46\n",
      " 41.26 41.43 41.41 41.38 41.28 41.21 41.23 41.2  41.5  40.09 40.2  40.34\n",
      " 40.32 40.18 40.15 40.07 40.03 39.94 39.91 41.15 36.39 36.22 36.23 36.12\n",
      " 35.82 35.9  36.05 36.07 35.97 35.96 35.86 35.85 35.89 35.88]\n",
      "housing_median_age\n",
      "52\n",
      "[41. 21. 52. 42. 50. 40. 49. 48. 51. 43.  2. 46. 26. 20. 17. 36. 19. 23.\n",
      " 38. 35. 10. 16. 27. 39. 31. 29. 22. 37. 28. 34. 32. 47. 44. 30. 18. 45.\n",
      " 33. 24. 15. 14. 13. 25.  5. 12.  6.  8.  9.  7.  3.  4. 11.  1.]\n",
      "total_rooms\n",
      "5926\n",
      "[  880.  7099.  1467. ...  4598.   272. 10035.]\n",
      "total_bedrooms\n",
      "1923\n",
      "[ 129. 1106.  190. ... 3008. 1857. 1052.]\n",
      "population\n",
      "3888\n",
      "[ 322. 2401.  496. ... 3060. 2707. 6912.]\n",
      "households\n",
      "1815\n",
      "[ 126. 1138.  177. ... 1767. 1832. 1818.]\n",
      "median_income\n",
      "12928\n",
      "[8.3252 8.3014 7.2574 ... 2.3598 2.3661 2.0943]\n",
      "median_house_value\n",
      "3842\n",
      "[452600. 358500. 352100. ... 425800. 200700.  47000.]\n"
     ]
    }
   ],
   "source": [
    "for col in columns:\n",
    "    print(col)\n",
    "    print(df[col].nunique())\n",
    "    print(df[col].unique())"
   ]
  },
  {
   "cell_type": "markdown",
   "metadata": {},
   "source": [
    "#### Distribution of median_house_value"
   ]
  },
  {
   "cell_type": "code",
   "execution_count": 35,
   "metadata": {},
   "outputs": [
    {
     "data": {
      "text/plain": [
       "<matplotlib.axes._subplots.AxesSubplot at 0x2452d788610>"
      ]
     },
     "execution_count": 35,
     "metadata": {},
     "output_type": "execute_result"
    },
    {
     "data": {
      "image/png": "[encoded data removed]",
      "text/plain": [
       "<Figure size 432x288 with 1 Axes>"
      ]
     },
     "metadata": {
      "needs_background": "light"
     },
     "output_type": "display_data"
    }
   ],
   "source": [
    "sns.histplot(df['median_house_value'], bins = 100)"
   ]
  },
  {
   "cell_type": "code",
   "execution_count": 36,
   "metadata": {},
   "outputs": [
    {
     "data": {
      "text/plain": [
       "<matplotlib.axes._subplots.AxesSubplot at 0x2452dfe3940>"
      ]
     },
     "execution_count": 36,
     "metadata": {},
     "output_type": "execute_result"
    },
    {
     "data": {
      "image/png": "[encoded data removed]",
      "text/plain": [
       "<Figure size 432x288 with 1 Axes>"
      ]
     },
     "metadata": {
      "needs_background": "light"
     },
     "output_type": "display_data"
    }
   ],
   "source": [
    "sns.histplot(np.log1p(df['median_house_value']))"
   ]
  },
  {
   "cell_type": "markdown",
   "metadata": {},
   "source": [
    "### Questions"
   ]
  },
  {
   "cell_type": "markdown",
   "metadata": {},
   "source": [
    "#### Question 1: Find a feature with missing values. How many missing values does it have?"
   ]
  },
  {
   "cell_type": "code",
   "execution_count": 37,
   "metadata": {},
   "outputs": [
    {
     "data": {
      "text/plain": [
       "total_bedrooms    207\n",
       "dtype: int64"
      ]
     },
     "execution_count": 37,
     "metadata": {},
     "output_type": "execute_result"
    }
   ],
   "source": [
    "df.isnull().sum()[df.isnull().sum() > 0]"
   ]
  },
  {
   "cell_type": "markdown",
   "metadata": {},
   "source": [
    "#### Question 2: What's the median (50% percentile) for variable 'population'?"
   ]
  },
  {
   "cell_type": "code",
   "execution_count": 38,
   "metadata": {},
   "outputs": [
    {
     "data": {
      "text/html": [
       "<div>\n",
       "<style scoped>\n",
       "    .dataframe tbody tr th:only-of-type {\n",
       "        vertical-align: middle;\n",
       "    }\n",
       "\n",
       "    .dataframe tbody tr th {\n",
       "        vertical-align: top;\n",
       "    }\n",
       "\n",
       "    .dataframe thead th {\n",
       "        text-align: right;\n",
       "    }\n",
       "</style>\n",
       "<table border=\"1\" class=\"dataframe\">\n",
       "  <thead>\n",
       "    <tr style=\"text-align: right;\">\n",
       "      <th></th>\n",
       "      <th>count</th>\n",
       "      <th>mean</th>\n",
       "      <th>std</th>\n",
       "      <th>min</th>\n",
       "      <th>25%</th>\n",
       "      <th>50%</th>\n",
       "      <th>75%</th>\n",
       "      <th>max</th>\n",
       "    </tr>\n",
       "  </thead>\n",
       "  <tbody>\n",
       "    <tr>\n",
       "      <th>longitude</th>\n",
       "      <td>20640.0</td>\n",
       "      <td>-119.569704</td>\n",
       "      <td>2.003532</td>\n",
       "      <td>-124.3500</td>\n",
       "      <td>-121.8000</td>\n",
       "      <td>-118.4900</td>\n",
       "      <td>-118.01000</td>\n",
       "      <td>-114.3100</td>\n",
       "    </tr>\n",
       "    <tr>\n",
       "      <th>latitude</th>\n",
       "      <td>20640.0</td>\n",
       "      <td>35.631861</td>\n",
       "      <td>2.135952</td>\n",
       "      <td>32.5400</td>\n",
       "      <td>33.9300</td>\n",
       "      <td>34.2600</td>\n",
       "      <td>37.71000</td>\n",
       "      <td>41.9500</td>\n",
       "    </tr>\n",
       "    <tr>\n",
       "      <th>housing_median_age</th>\n",
       "      <td>20640.0</td>\n",
       "      <td>28.639486</td>\n",
       "      <td>12.585558</td>\n",
       "      <td>1.0000</td>\n",
       "      <td>18.0000</td>\n",
       "      <td>29.0000</td>\n",
       "      <td>37.00000</td>\n",
       "      <td>52.0000</td>\n",
       "    </tr>\n",
       "    <tr>\n",
       "      <th>total_rooms</th>\n",
       "      <td>20640.0</td>\n",
       "      <td>2635.763081</td>\n",
       "      <td>2181.615252</td>\n",
       "      <td>2.0000</td>\n",
       "      <td>1447.7500</td>\n",
       "      <td>2127.0000</td>\n",
       "      <td>3148.00000</td>\n",
       "      <td>39320.0000</td>\n",
       "    </tr>\n",
       "    <tr>\n",
       "      <th>total_bedrooms</th>\n",
       "      <td>20433.0</td>\n",
       "      <td>537.870553</td>\n",
       "      <td>421.385070</td>\n",
       "      <td>1.0000</td>\n",
       "      <td>296.0000</td>\n",
       "      <td>435.0000</td>\n",
       "      <td>647.00000</td>\n",
       "      <td>6445.0000</td>\n",
       "    </tr>\n",
       "    <tr>\n",
       "      <th>population</th>\n",
       "      <td>20640.0</td>\n",
       "      <td>1425.476744</td>\n",
       "      <td>1132.462122</td>\n",
       "      <td>3.0000</td>\n",
       "      <td>787.0000</td>\n",
       "      <td>1166.0000</td>\n",
       "      <td>1725.00000</td>\n",
       "      <td>35682.0000</td>\n",
       "    </tr>\n",
       "    <tr>\n",
       "      <th>households</th>\n",
       "      <td>20640.0</td>\n",
       "      <td>499.539680</td>\n",
       "      <td>382.329753</td>\n",
       "      <td>1.0000</td>\n",
       "      <td>280.0000</td>\n",
       "      <td>409.0000</td>\n",
       "      <td>605.00000</td>\n",
       "      <td>6082.0000</td>\n",
       "    </tr>\n",
       "    <tr>\n",
       "      <th>median_income</th>\n",
       "      <td>20640.0</td>\n",
       "      <td>3.870671</td>\n",
       "      <td>1.899822</td>\n",
       "      <td>0.4999</td>\n",
       "      <td>2.5634</td>\n",
       "      <td>3.5348</td>\n",
       "      <td>4.74325</td>\n",
       "      <td>15.0001</td>\n",
       "    </tr>\n",
       "    <tr>\n",
       "      <th>median_house_value</th>\n",
       "      <td>20640.0</td>\n",
       "      <td>206855.816909</td>\n",
       "      <td>115395.615874</td>\n",
       "      <td>14999.0000</td>\n",
       "      <td>119600.0000</td>\n",
       "      <td>179700.0000</td>\n",
       "      <td>264725.00000</td>\n",
       "      <td>500001.0000</td>\n",
       "    </tr>\n",
       "  </tbody>\n",
       "</table>\n",
       "</div>"
      ],
      "text/plain": [
       "                      count           mean            std         min  \\\n",
       "longitude           20640.0    -119.569704       2.003532   -124.3500   \n",
       "latitude            20640.0      35.631861       2.135952     32.5400   \n",
       "housing_median_age  20640.0      28.639486      12.585558      1.0000   \n",
       "total_rooms         20640.0    2635.763081    2181.615252      2.0000   \n",
       "total_bedrooms      20433.0     537.870553     421.385070      1.0000   \n",
       "population          20640.0    1425.476744    1132.462122      3.0000   \n",
       "households          20640.0     499.539680     382.329753      1.0000   \n",
       "median_income       20640.0       3.870671       1.899822      0.4999   \n",
       "median_house_value  20640.0  206855.816909  115395.615874  14999.0000   \n",
       "\n",
       "                            25%          50%           75%          max  \n",
       "longitude             -121.8000    -118.4900    -118.01000    -114.3100  \n",
       "latitude                33.9300      34.2600      37.71000      41.9500  \n",
       "housing_median_age      18.0000      29.0000      37.00000      52.0000  \n",
       "total_rooms           1447.7500    2127.0000    3148.00000   39320.0000  \n",
       "total_bedrooms         296.0000     435.0000     647.00000    6445.0000  \n",
       "population             787.0000    1166.0000    1725.00000   35682.0000  \n",
       "households             280.0000     409.0000     605.00000    6082.0000  \n",
       "median_income            2.5634       3.5348       4.74325      15.0001  \n",
       "median_house_value  119600.0000  179700.0000  264725.00000  500001.0000  "
      ]
     },
     "execution_count": 38,
     "metadata": {},
     "output_type": "execute_result"
    }
   ],
   "source": [
    "df.describe().transpose()"
   ]
  },
  {
   "cell_type": "markdown",
   "metadata": {},
   "source": [
    "##### Validation framework: Split the data\n",
    "\n",
    "- Shuffle the initial dataset, use seed 42.\n",
    "\n",
    "- Split your data in train/val/test sets, with 60%/20%/20% distribution.\n",
    "\n",
    "- Make sure that the target value ('median_house_value') is not in your dataframe.\n",
    "\n",
    "- Apply the log transformation to the median_house_value variable using the np.log1p() function."
   ]
  },
  {
   "cell_type": "code",
   "execution_count": 39,
   "metadata": {},
   "outputs": [],
   "source": [
    "n = len(df)  # total number of observations\n",
    "\n",
    "n_val = int(n * 0.2)  # number of observations for validation data set\n",
    "\n",
    "n_test = int(n * 0.2)  # number of observations for test data set\n",
    "\n",
    "n_train = n - n_val - n_test  # number of observations for train data set"
   ]
  },
  {
   "cell_type": "markdown",
   "metadata": {},
   "source": [
    "- **Confirmation**"
   ]
  },
  {
   "cell_type": "code",
   "execution_count": 40,
   "metadata": {},
   "outputs": [
    {
     "data": {
      "text/plain": [
       "(20640, 20640)"
      ]
     },
     "execution_count": 40,
     "metadata": {},
     "output_type": "execute_result"
    }
   ],
   "source": [
    "n, n_train + n_val + n_test"
   ]
  },
  {
   "cell_type": "markdown",
   "metadata": {},
   "source": [
    "- **Shuffle the indexes**"
   ]
  },
  {
   "cell_type": "code",
   "execution_count": 41,
   "metadata": {},
   "outputs": [
    {
     "data": {
      "text/plain": [
       "array([    0,     1,     2, ..., 20637, 20638, 20639])"
      ]
     },
     "execution_count": 41,
     "metadata": {},
     "output_type": "execute_result"
    }
   ],
   "source": [
    "idx = np.arange(n)\n",
    "idx"
   ]
  },
  {
   "cell_type": "code",
   "execution_count": 42,
   "metadata": {},
   "outputs": [],
   "source": [
    "np.random.seed(42)\n",
    "np.random.shuffle(idx)"
   ]
  },
  {
   "cell_type": "code",
   "execution_count": 43,
   "metadata": {},
   "outputs": [
    {
     "data": {
      "text/plain": [
       "array([20046,  3024, 15663, ...,  5390,   860, 15795])"
      ]
     },
     "execution_count": 43,
     "metadata": {},
     "output_type": "execute_result"
    }
   ],
   "source": [
    "idx"
   ]
  },
  {
   "cell_type": "markdown",
   "metadata": {},
   "source": [
    "- **Shuffle the data**"
   ]
  },
  {
   "cell_type": "code",
   "execution_count": 44,
   "metadata": {},
   "outputs": [
    {
     "data": {
      "text/html": [
       "<div>\n",
       "<style scoped>\n",
       "    .dataframe tbody tr th:only-of-type {\n",
       "        vertical-align: middle;\n",
       "    }\n",
       "\n",
       "    .dataframe tbody tr th {\n",
       "        vertical-align: top;\n",
       "    }\n",
       "\n",
       "    .dataframe thead th {\n",
       "        text-align: right;\n",
       "    }\n",
       "</style>\n",
       "<table border=\"1\" class=\"dataframe\">\n",
       "  <thead>\n",
       "    <tr style=\"text-align: right;\">\n",
       "      <th></th>\n",
       "      <th>longitude</th>\n",
       "      <th>latitude</th>\n",
       "      <th>housing_median_age</th>\n",
       "      <th>total_rooms</th>\n",
       "      <th>total_bedrooms</th>\n",
       "      <th>population</th>\n",
       "      <th>households</th>\n",
       "      <th>median_income</th>\n",
       "      <th>median_house_value</th>\n",
       "    </tr>\n",
       "  </thead>\n",
       "  <tbody>\n",
       "    <tr>\n",
       "      <th>20046</th>\n",
       "      <td>-119.01</td>\n",
       "      <td>36.06</td>\n",
       "      <td>25.0</td>\n",
       "      <td>1505.0</td>\n",
       "      <td>NaN</td>\n",
       "      <td>1392.0</td>\n",
       "      <td>359.0</td>\n",
       "      <td>1.6812</td>\n",
       "      <td>47700.0</td>\n",
       "    </tr>\n",
       "    <tr>\n",
       "      <th>3024</th>\n",
       "      <td>-119.46</td>\n",
       "      <td>35.14</td>\n",
       "      <td>30.0</td>\n",
       "      <td>2943.0</td>\n",
       "      <td>NaN</td>\n",
       "      <td>1565.0</td>\n",
       "      <td>584.0</td>\n",
       "      <td>2.5313</td>\n",
       "      <td>45800.0</td>\n",
       "    </tr>\n",
       "    <tr>\n",
       "      <th>15663</th>\n",
       "      <td>-122.44</td>\n",
       "      <td>37.80</td>\n",
       "      <td>52.0</td>\n",
       "      <td>3830.0</td>\n",
       "      <td>NaN</td>\n",
       "      <td>1310.0</td>\n",
       "      <td>963.0</td>\n",
       "      <td>3.4801</td>\n",
       "      <td>500001.0</td>\n",
       "    </tr>\n",
       "    <tr>\n",
       "      <th>20484</th>\n",
       "      <td>-118.72</td>\n",
       "      <td>34.28</td>\n",
       "      <td>17.0</td>\n",
       "      <td>3051.0</td>\n",
       "      <td>NaN</td>\n",
       "      <td>1705.0</td>\n",
       "      <td>495.0</td>\n",
       "      <td>5.7376</td>\n",
       "      <td>218600.0</td>\n",
       "    </tr>\n",
       "    <tr>\n",
       "      <th>9814</th>\n",
       "      <td>-121.93</td>\n",
       "      <td>36.62</td>\n",
       "      <td>34.0</td>\n",
       "      <td>2351.0</td>\n",
       "      <td>NaN</td>\n",
       "      <td>1063.0</td>\n",
       "      <td>428.0</td>\n",
       "      <td>3.7250</td>\n",
       "      <td>278000.0</td>\n",
       "    </tr>\n",
       "    <tr>\n",
       "      <th>...</th>\n",
       "      <td>...</td>\n",
       "      <td>...</td>\n",
       "      <td>...</td>\n",
       "      <td>...</td>\n",
       "      <td>...</td>\n",
       "      <td>...</td>\n",
       "      <td>...</td>\n",
       "      <td>...</td>\n",
       "      <td>...</td>\n",
       "    </tr>\n",
       "    <tr>\n",
       "      <th>11284</th>\n",
       "      <td>-117.96</td>\n",
       "      <td>33.78</td>\n",
       "      <td>35.0</td>\n",
       "      <td>1330.0</td>\n",
       "      <td>201.0</td>\n",
       "      <td>658.0</td>\n",
       "      <td>217.0</td>\n",
       "      <td>6.3700</td>\n",
       "      <td>229200.0</td>\n",
       "    </tr>\n",
       "    <tr>\n",
       "      <th>11964</th>\n",
       "      <td>-117.43</td>\n",
       "      <td>34.02</td>\n",
       "      <td>33.0</td>\n",
       "      <td>3084.0</td>\n",
       "      <td>570.0</td>\n",
       "      <td>1753.0</td>\n",
       "      <td>449.0</td>\n",
       "      <td>3.0500</td>\n",
       "      <td>97800.0</td>\n",
       "    </tr>\n",
       "    <tr>\n",
       "      <th>5390</th>\n",
       "      <td>-118.38</td>\n",
       "      <td>34.03</td>\n",
       "      <td>36.0</td>\n",
       "      <td>2101.0</td>\n",
       "      <td>569.0</td>\n",
       "      <td>1756.0</td>\n",
       "      <td>527.0</td>\n",
       "      <td>2.9344</td>\n",
       "      <td>222100.0</td>\n",
       "    </tr>\n",
       "    <tr>\n",
       "      <th>860</th>\n",
       "      <td>-121.96</td>\n",
       "      <td>37.58</td>\n",
       "      <td>15.0</td>\n",
       "      <td>3575.0</td>\n",
       "      <td>597.0</td>\n",
       "      <td>1777.0</td>\n",
       "      <td>559.0</td>\n",
       "      <td>5.7192</td>\n",
       "      <td>283500.0</td>\n",
       "    </tr>\n",
       "    <tr>\n",
       "      <th>15795</th>\n",
       "      <td>-122.42</td>\n",
       "      <td>37.77</td>\n",
       "      <td>52.0</td>\n",
       "      <td>4226.0</td>\n",
       "      <td>1315.0</td>\n",
       "      <td>2619.0</td>\n",
       "      <td>1242.0</td>\n",
       "      <td>2.5755</td>\n",
       "      <td>325000.0</td>\n",
       "    </tr>\n",
       "  </tbody>\n",
       "</table>\n",
       "<p>20640 rows × 9 columns</p>\n",
       "</div>"
      ],
      "text/plain": [
       "       longitude  latitude  housing_median_age  total_rooms  total_bedrooms  \\\n",
       "20046    -119.01     36.06                25.0       1505.0             NaN   \n",
       "3024     -119.46     35.14                30.0       2943.0             NaN   \n",
       "15663    -122.44     37.80                52.0       3830.0             NaN   \n",
       "20484    -118.72     34.28                17.0       3051.0             NaN   \n",
       "9814     -121.93     36.62                34.0       2351.0             NaN   \n",
       "...          ...       ...                 ...          ...             ...   \n",
       "11284    -117.96     33.78                35.0       1330.0           201.0   \n",
       "11964    -117.43     34.02                33.0       3084.0           570.0   \n",
       "5390     -118.38     34.03                36.0       2101.0           569.0   \n",
       "860      -121.96     37.58                15.0       3575.0           597.0   \n",
       "15795    -122.42     37.77                52.0       4226.0          1315.0   \n",
       "\n",
       "       population  households  median_income  median_house_value  \n",
       "20046      1392.0       359.0         1.6812             47700.0  \n",
       "3024       1565.0       584.0         2.5313             45800.0  \n",
       "15663      1310.0       963.0         3.4801            500001.0  \n",
       "20484      1705.0       495.0         5.7376            218600.0  \n",
       "9814       1063.0       428.0         3.7250            278000.0  \n",
       "...           ...         ...            ...                 ...  \n",
       "11284       658.0       217.0         6.3700            229200.0  \n",
       "11964      1753.0       449.0         3.0500             97800.0  \n",
       "5390       1756.0       527.0         2.9344            222100.0  \n",
       "860        1777.0       559.0         5.7192            283500.0  \n",
       "15795      2619.0      1242.0         2.5755            325000.0  \n",
       "\n",
       "[20640 rows x 9 columns]"
      ]
     },
     "execution_count": 44,
     "metadata": {},
     "output_type": "execute_result"
    }
   ],
   "source": [
    "df_shuffled = df.iloc[idx]\n",
    "df_shuffled"
   ]
  },
  {
   "cell_type": "markdown",
   "metadata": {},
   "source": [
    "- **Split in train/val/test with 60%/20%/20%**"
   ]
  },
  {
   "cell_type": "code",
   "execution_count": 46,
   "metadata": {},
   "outputs": [],
   "source": [
    "df_train = df_shuffled.iloc[:n_train]\n",
    "\n",
    "df_val = df_shuffled.iloc[n_train:n_train+n_val]\n",
    "\n",
    "df_test = df_shuffled.iloc[n_train+n_val:]"
   ]
  },
  {
   "cell_type": "code",
   "execution_count": 47,
   "metadata": {},
   "outputs": [
    {
     "data": {
      "text/html": [
       "<div>\n",
       "<style scoped>\n",
       "    .dataframe tbody tr th:only-of-type {\n",
       "        vertical-align: middle;\n",
       "    }\n",
       "\n",
       "    .dataframe tbody tr th {\n",
       "        vertical-align: top;\n",
       "    }\n",
       "\n",
       "    .dataframe thead th {\n",
       "        text-align: right;\n",
       "    }\n",
       "</style>\n",
       "<table border=\"1\" class=\"dataframe\">\n",
       "  <thead>\n",
       "    <tr style=\"text-align: right;\">\n",
       "      <th></th>\n",
       "      <th>longitude</th>\n",
       "      <th>latitude</th>\n",
       "      <th>housing_median_age</th>\n",
       "      <th>total_rooms</th>\n",
       "      <th>total_bedrooms</th>\n",
       "      <th>population</th>\n",
       "      <th>households</th>\n",
       "      <th>median_income</th>\n",
       "      <th>median_house_value</th>\n",
       "    </tr>\n",
       "  </thead>\n",
       "  <tbody>\n",
       "    <tr>\n",
       "      <th>20046</th>\n",
       "      <td>-119.01</td>\n",
       "      <td>36.06</td>\n",
       "      <td>25.0</td>\n",
       "      <td>1505.0</td>\n",
       "      <td>NaN</td>\n",
       "      <td>1392.0</td>\n",
       "      <td>359.0</td>\n",
       "      <td>1.6812</td>\n",
       "      <td>47700.0</td>\n",
       "    </tr>\n",
       "    <tr>\n",
       "      <th>3024</th>\n",
       "      <td>-119.46</td>\n",
       "      <td>35.14</td>\n",
       "      <td>30.0</td>\n",
       "      <td>2943.0</td>\n",
       "      <td>NaN</td>\n",
       "      <td>1565.0</td>\n",
       "      <td>584.0</td>\n",
       "      <td>2.5313</td>\n",
       "      <td>45800.0</td>\n",
       "    </tr>\n",
       "    <tr>\n",
       "      <th>15663</th>\n",
       "      <td>-122.44</td>\n",
       "      <td>37.80</td>\n",
       "      <td>52.0</td>\n",
       "      <td>3830.0</td>\n",
       "      <td>NaN</td>\n",
       "      <td>1310.0</td>\n",
       "      <td>963.0</td>\n",
       "      <td>3.4801</td>\n",
       "      <td>500001.0</td>\n",
       "    </tr>\n",
       "    <tr>\n",
       "      <th>20484</th>\n",
       "      <td>-118.72</td>\n",
       "      <td>34.28</td>\n",
       "      <td>17.0</td>\n",
       "      <td>3051.0</td>\n",
       "      <td>NaN</td>\n",
       "      <td>1705.0</td>\n",
       "      <td>495.0</td>\n",
       "      <td>5.7376</td>\n",
       "      <td>218600.0</td>\n",
       "    </tr>\n",
       "    <tr>\n",
       "      <th>9814</th>\n",
       "      <td>-121.93</td>\n",
       "      <td>36.62</td>\n",
       "      <td>34.0</td>\n",
       "      <td>2351.0</td>\n",
       "      <td>NaN</td>\n",
       "      <td>1063.0</td>\n",
       "      <td>428.0</td>\n",
       "      <td>3.7250</td>\n",
       "      <td>278000.0</td>\n",
       "    </tr>\n",
       "    <tr>\n",
       "      <th>...</th>\n",
       "      <td>...</td>\n",
       "      <td>...</td>\n",
       "      <td>...</td>\n",
       "      <td>...</td>\n",
       "      <td>...</td>\n",
       "      <td>...</td>\n",
       "      <td>...</td>\n",
       "      <td>...</td>\n",
       "      <td>...</td>\n",
       "    </tr>\n",
       "    <tr>\n",
       "      <th>10292</th>\n",
       "      <td>-117.81</td>\n",
       "      <td>33.88</td>\n",
       "      <td>19.0</td>\n",
       "      <td>2265.0</td>\n",
       "      <td>283.0</td>\n",
       "      <td>904.0</td>\n",
       "      <td>279.0</td>\n",
       "      <td>9.2327</td>\n",
       "      <td>461300.0</td>\n",
       "    </tr>\n",
       "    <tr>\n",
       "      <th>16722</th>\n",
       "      <td>-120.68</td>\n",
       "      <td>35.48</td>\n",
       "      <td>15.0</td>\n",
       "      <td>2608.0</td>\n",
       "      <td>525.0</td>\n",
       "      <td>1351.0</td>\n",
       "      <td>502.0</td>\n",
       "      <td>2.7798</td>\n",
       "      <td>205800.0</td>\n",
       "    </tr>\n",
       "    <tr>\n",
       "      <th>11730</th>\n",
       "      <td>-120.91</td>\n",
       "      <td>38.98</td>\n",
       "      <td>13.0</td>\n",
       "      <td>7689.0</td>\n",
       "      <td>1415.0</td>\n",
       "      <td>3264.0</td>\n",
       "      <td>1198.0</td>\n",
       "      <td>3.6530</td>\n",
       "      <td>146800.0</td>\n",
       "    </tr>\n",
       "    <tr>\n",
       "      <th>5993</th>\n",
       "      <td>-117.72</td>\n",
       "      <td>34.09</td>\n",
       "      <td>36.0</td>\n",
       "      <td>1473.0</td>\n",
       "      <td>328.0</td>\n",
       "      <td>785.0</td>\n",
       "      <td>299.0</td>\n",
       "      <td>3.2566</td>\n",
       "      <td>151800.0</td>\n",
       "    </tr>\n",
       "    <tr>\n",
       "      <th>15993</th>\n",
       "      <td>-122.47</td>\n",
       "      <td>37.76</td>\n",
       "      <td>34.0</td>\n",
       "      <td>2807.0</td>\n",
       "      <td>487.0</td>\n",
       "      <td>1152.0</td>\n",
       "      <td>445.0</td>\n",
       "      <td>5.1893</td>\n",
       "      <td>420300.0</td>\n",
       "    </tr>\n",
       "  </tbody>\n",
       "</table>\n",
       "<p>12384 rows × 9 columns</p>\n",
       "</div>"
      ],
      "text/plain": [
       "       longitude  latitude  housing_median_age  total_rooms  total_bedrooms  \\\n",
       "20046    -119.01     36.06                25.0       1505.0             NaN   \n",
       "3024     -119.46     35.14                30.0       2943.0             NaN   \n",
       "15663    -122.44     37.80                52.0       3830.0             NaN   \n",
       "20484    -118.72     34.28                17.0       3051.0             NaN   \n",
       "9814     -121.93     36.62                34.0       2351.0             NaN   \n",
       "...          ...       ...                 ...          ...             ...   \n",
       "10292    -117.81     33.88                19.0       2265.0           283.0   \n",
       "16722    -120.68     35.48                15.0       2608.0           525.0   \n",
       "11730    -120.91     38.98                13.0       7689.0          1415.0   \n",
       "5993     -117.72     34.09                36.0       1473.0           328.0   \n",
       "15993    -122.47     37.76                34.0       2807.0           487.0   \n",
       "\n",
       "       population  households  median_income  median_house_value  \n",
       "20046      1392.0       359.0         1.6812             47700.0  \n",
       "3024       1565.0       584.0         2.5313             45800.0  \n",
       "15663      1310.0       963.0         3.4801            500001.0  \n",
       "20484      1705.0       495.0         5.7376            218600.0  \n",
       "9814       1063.0       428.0         3.7250            278000.0  \n",
       "...           ...         ...            ...                 ...  \n",
       "10292       904.0       279.0         9.2327            461300.0  \n",
       "16722      1351.0       502.0         2.7798            205800.0  \n",
       "11730      3264.0      1198.0         3.6530            146800.0  \n",
       "5993        785.0       299.0         3.2566            151800.0  \n",
       "15993      1152.0       445.0         5.1893            420300.0  \n",
       "\n",
       "[12384 rows x 9 columns]"
      ]
     },
     "execution_count": 47,
     "metadata": {},
     "output_type": "execute_result"
    }
   ],
   "source": [
    "df_train"
   ]
  },
  {
   "cell_type": "code",
   "execution_count": 48,
   "metadata": {},
   "outputs": [
    {
     "data": {
      "text/html": [
       "<div>\n",
       "<style scoped>\n",
       "    .dataframe tbody tr th:only-of-type {\n",
       "        vertical-align: middle;\n",
       "    }\n",
       "\n",
       "    .dataframe tbody tr th {\n",
       "        vertical-align: top;\n",
       "    }\n",
       "\n",
       "    .dataframe thead th {\n",
       "        text-align: right;\n",
       "    }\n",
       "</style>\n",
       "<table border=\"1\" class=\"dataframe\">\n",
       "  <thead>\n",
       "    <tr style=\"text-align: right;\">\n",
       "      <th></th>\n",
       "      <th>longitude</th>\n",
       "      <th>latitude</th>\n",
       "      <th>housing_median_age</th>\n",
       "      <th>total_rooms</th>\n",
       "      <th>total_bedrooms</th>\n",
       "      <th>population</th>\n",
       "      <th>households</th>\n",
       "      <th>median_income</th>\n",
       "      <th>median_house_value</th>\n",
       "    </tr>\n",
       "  </thead>\n",
       "  <tbody>\n",
       "    <tr>\n",
       "      <th>19660</th>\n",
       "      <td>-120.85</td>\n",
       "      <td>37.51</td>\n",
       "      <td>15.0</td>\n",
       "      <td>1131.0</td>\n",
       "      <td>285.0</td>\n",
       "      <td>728.0</td>\n",
       "      <td>281.0</td>\n",
       "      <td>1.5531</td>\n",
       "      <td>93100.0</td>\n",
       "    </tr>\n",
       "    <tr>\n",
       "      <th>4415</th>\n",
       "      <td>-118.25</td>\n",
       "      <td>34.09</td>\n",
       "      <td>52.0</td>\n",
       "      <td>1866.0</td>\n",
       "      <td>470.0</td>\n",
       "      <td>1211.0</td>\n",
       "      <td>417.0</td>\n",
       "      <td>2.9350</td>\n",
       "      <td>189400.0</td>\n",
       "    </tr>\n",
       "    <tr>\n",
       "      <th>18113</th>\n",
       "      <td>-122.02</td>\n",
       "      <td>37.31</td>\n",
       "      <td>34.0</td>\n",
       "      <td>2629.0</td>\n",
       "      <td>433.0</td>\n",
       "      <td>1301.0</td>\n",
       "      <td>431.0</td>\n",
       "      <td>6.0830</td>\n",
       "      <td>341400.0</td>\n",
       "    </tr>\n",
       "    <tr>\n",
       "      <th>17673</th>\n",
       "      <td>-121.88</td>\n",
       "      <td>37.30</td>\n",
       "      <td>16.0</td>\n",
       "      <td>2692.0</td>\n",
       "      <td>749.0</td>\n",
       "      <td>1674.0</td>\n",
       "      <td>681.0</td>\n",
       "      <td>2.6763</td>\n",
       "      <td>191100.0</td>\n",
       "    </tr>\n",
       "    <tr>\n",
       "      <th>16992</th>\n",
       "      <td>-122.27</td>\n",
       "      <td>37.56</td>\n",
       "      <td>17.0</td>\n",
       "      <td>3211.0</td>\n",
       "      <td>847.0</td>\n",
       "      <td>1553.0</td>\n",
       "      <td>812.0</td>\n",
       "      <td>4.9434</td>\n",
       "      <td>292100.0</td>\n",
       "    </tr>\n",
       "    <tr>\n",
       "      <th>...</th>\n",
       "      <td>...</td>\n",
       "      <td>...</td>\n",
       "      <td>...</td>\n",
       "      <td>...</td>\n",
       "      <td>...</td>\n",
       "      <td>...</td>\n",
       "      <td>...</td>\n",
       "      <td>...</td>\n",
       "      <td>...</td>\n",
       "    </tr>\n",
       "    <tr>\n",
       "      <th>20011</th>\n",
       "      <td>-119.12</td>\n",
       "      <td>36.05</td>\n",
       "      <td>27.0</td>\n",
       "      <td>1575.0</td>\n",
       "      <td>321.0</td>\n",
       "      <td>1063.0</td>\n",
       "      <td>317.0</td>\n",
       "      <td>2.1477</td>\n",
       "      <td>53900.0</td>\n",
       "    </tr>\n",
       "    <tr>\n",
       "      <th>12225</th>\n",
       "      <td>-116.90</td>\n",
       "      <td>33.65</td>\n",
       "      <td>15.0</td>\n",
       "      <td>652.0</td>\n",
       "      <td>149.0</td>\n",
       "      <td>248.0</td>\n",
       "      <td>97.0</td>\n",
       "      <td>2.1071</td>\n",
       "      <td>93800.0</td>\n",
       "    </tr>\n",
       "    <tr>\n",
       "      <th>1051</th>\n",
       "      <td>-120.71</td>\n",
       "      <td>38.34</td>\n",
       "      <td>16.0</td>\n",
       "      <td>1257.0</td>\n",
       "      <td>231.0</td>\n",
       "      <td>559.0</td>\n",
       "      <td>213.0</td>\n",
       "      <td>4.4531</td>\n",
       "      <td>144300.0</td>\n",
       "    </tr>\n",
       "    <tr>\n",
       "      <th>14519</th>\n",
       "      <td>-117.13</td>\n",
       "      <td>32.91</td>\n",
       "      <td>16.0</td>\n",
       "      <td>2715.0</td>\n",
       "      <td>581.0</td>\n",
       "      <td>1619.0</td>\n",
       "      <td>584.0</td>\n",
       "      <td>4.0000</td>\n",
       "      <td>154700.0</td>\n",
       "    </tr>\n",
       "    <tr>\n",
       "      <th>11410</th>\n",
       "      <td>-117.93</td>\n",
       "      <td>33.71</td>\n",
       "      <td>10.0</td>\n",
       "      <td>2775.0</td>\n",
       "      <td>717.0</td>\n",
       "      <td>1581.0</td>\n",
       "      <td>633.0</td>\n",
       "      <td>4.1366</td>\n",
       "      <td>158800.0</td>\n",
       "    </tr>\n",
       "  </tbody>\n",
       "</table>\n",
       "<p>4128 rows × 9 columns</p>\n",
       "</div>"
      ],
      "text/plain": [
       "       longitude  latitude  housing_median_age  total_rooms  total_bedrooms  \\\n",
       "19660    -120.85     37.51                15.0       1131.0           285.0   \n",
       "4415     -118.25     34.09                52.0       1866.0           470.0   \n",
       "18113    -122.02     37.31                34.0       2629.0           433.0   \n",
       "17673    -121.88     37.30                16.0       2692.0           749.0   \n",
       "16992    -122.27     37.56                17.0       3211.0           847.0   \n",
       "...          ...       ...                 ...          ...             ...   \n",
       "20011    -119.12     36.05                27.0       1575.0           321.0   \n",
       "12225    -116.90     33.65                15.0        652.0           149.0   \n",
       "1051     -120.71     38.34                16.0       1257.0           231.0   \n",
       "14519    -117.13     32.91                16.0       2715.0           581.0   \n",
       "11410    -117.93     33.71                10.0       2775.0           717.0   \n",
       "\n",
       "       population  households  median_income  median_house_value  \n",
       "19660       728.0       281.0         1.5531             93100.0  \n",
       "4415       1211.0       417.0         2.9350            189400.0  \n",
       "18113      1301.0       431.0         6.0830            341400.0  \n",
       "17673      1674.0       681.0         2.6763            191100.0  \n",
       "16992      1553.0       812.0         4.9434            292100.0  \n",
       "...           ...         ...            ...                 ...  \n",
       "20011      1063.0       317.0         2.1477             53900.0  \n",
       "12225       248.0        97.0         2.1071             93800.0  \n",
       "1051        559.0       213.0         4.4531            144300.0  \n",
       "14519      1619.0       584.0         4.0000            154700.0  \n",
       "11410      1581.0       633.0         4.1366            158800.0  \n",
       "\n",
       "[4128 rows x 9 columns]"
      ]
     },
     "execution_count": 48,
     "metadata": {},
     "output_type": "execute_result"
    }
   ],
   "source": [
    "df_val"
   ]
  },
  {
   "cell_type": "code",
   "execution_count": 49,
   "metadata": {},
   "outputs": [
    {
     "data": {
      "text/html": [
       "<div>\n",
       "<style scoped>\n",
       "    .dataframe tbody tr th:only-of-type {\n",
       "        vertical-align: middle;\n",
       "    }\n",
       "\n",
       "    .dataframe tbody tr th {\n",
       "        vertical-align: top;\n",
       "    }\n",
       "\n",
       "    .dataframe thead th {\n",
       "        text-align: right;\n",
       "    }\n",
       "</style>\n",
       "<table border=\"1\" class=\"dataframe\">\n",
       "  <thead>\n",
       "    <tr style=\"text-align: right;\">\n",
       "      <th></th>\n",
       "      <th>longitude</th>\n",
       "      <th>latitude</th>\n",
       "      <th>housing_median_age</th>\n",
       "      <th>total_rooms</th>\n",
       "      <th>total_bedrooms</th>\n",
       "      <th>population</th>\n",
       "      <th>households</th>\n",
       "      <th>median_income</th>\n",
       "      <th>median_house_value</th>\n",
       "    </tr>\n",
       "  </thead>\n",
       "  <tbody>\n",
       "    <tr>\n",
       "      <th>9221</th>\n",
       "      <td>-120.26</td>\n",
       "      <td>37.13</td>\n",
       "      <td>33.0</td>\n",
       "      <td>1239.0</td>\n",
       "      <td>250.0</td>\n",
       "      <td>648.0</td>\n",
       "      <td>227.0</td>\n",
       "      <td>2.0278</td>\n",
       "      <td>58800.0</td>\n",
       "    </tr>\n",
       "    <tr>\n",
       "      <th>10234</th>\n",
       "      <td>-117.91</td>\n",
       "      <td>33.86</td>\n",
       "      <td>26.0</td>\n",
       "      <td>2296.0</td>\n",
       "      <td>570.0</td>\n",
       "      <td>1415.0</td>\n",
       "      <td>527.0</td>\n",
       "      <td>2.4732</td>\n",
       "      <td>165800.0</td>\n",
       "    </tr>\n",
       "    <tr>\n",
       "      <th>4763</th>\n",
       "      <td>-118.36</td>\n",
       "      <td>34.04</td>\n",
       "      <td>48.0</td>\n",
       "      <td>1769.0</td>\n",
       "      <td>429.0</td>\n",
       "      <td>993.0</td>\n",
       "      <td>405.0</td>\n",
       "      <td>2.3214</td>\n",
       "      <td>139400.0</td>\n",
       "    </tr>\n",
       "    <tr>\n",
       "      <th>9062</th>\n",
       "      <td>-118.15</td>\n",
       "      <td>34.69</td>\n",
       "      <td>32.0</td>\n",
       "      <td>1300.0</td>\n",
       "      <td>234.0</td>\n",
       "      <td>712.0</td>\n",
       "      <td>249.0</td>\n",
       "      <td>3.2500</td>\n",
       "      <td>107500.0</td>\n",
       "    </tr>\n",
       "    <tr>\n",
       "      <th>1874</th>\n",
       "      <td>-119.97</td>\n",
       "      <td>38.93</td>\n",
       "      <td>24.0</td>\n",
       "      <td>856.0</td>\n",
       "      <td>185.0</td>\n",
       "      <td>388.0</td>\n",
       "      <td>108.0</td>\n",
       "      <td>3.1806</td>\n",
       "      <td>107200.0</td>\n",
       "    </tr>\n",
       "    <tr>\n",
       "      <th>...</th>\n",
       "      <td>...</td>\n",
       "      <td>...</td>\n",
       "      <td>...</td>\n",
       "      <td>...</td>\n",
       "      <td>...</td>\n",
       "      <td>...</td>\n",
       "      <td>...</td>\n",
       "      <td>...</td>\n",
       "      <td>...</td>\n",
       "    </tr>\n",
       "    <tr>\n",
       "      <th>11284</th>\n",
       "      <td>-117.96</td>\n",
       "      <td>33.78</td>\n",
       "      <td>35.0</td>\n",
       "      <td>1330.0</td>\n",
       "      <td>201.0</td>\n",
       "      <td>658.0</td>\n",
       "      <td>217.0</td>\n",
       "      <td>6.3700</td>\n",
       "      <td>229200.0</td>\n",
       "    </tr>\n",
       "    <tr>\n",
       "      <th>11964</th>\n",
       "      <td>-117.43</td>\n",
       "      <td>34.02</td>\n",
       "      <td>33.0</td>\n",
       "      <td>3084.0</td>\n",
       "      <td>570.0</td>\n",
       "      <td>1753.0</td>\n",
       "      <td>449.0</td>\n",
       "      <td>3.0500</td>\n",
       "      <td>97800.0</td>\n",
       "    </tr>\n",
       "    <tr>\n",
       "      <th>5390</th>\n",
       "      <td>-118.38</td>\n",
       "      <td>34.03</td>\n",
       "      <td>36.0</td>\n",
       "      <td>2101.0</td>\n",
       "      <td>569.0</td>\n",
       "      <td>1756.0</td>\n",
       "      <td>527.0</td>\n",
       "      <td>2.9344</td>\n",
       "      <td>222100.0</td>\n",
       "    </tr>\n",
       "    <tr>\n",
       "      <th>860</th>\n",
       "      <td>-121.96</td>\n",
       "      <td>37.58</td>\n",
       "      <td>15.0</td>\n",
       "      <td>3575.0</td>\n",
       "      <td>597.0</td>\n",
       "      <td>1777.0</td>\n",
       "      <td>559.0</td>\n",
       "      <td>5.7192</td>\n",
       "      <td>283500.0</td>\n",
       "    </tr>\n",
       "    <tr>\n",
       "      <th>15795</th>\n",
       "      <td>-122.42</td>\n",
       "      <td>37.77</td>\n",
       "      <td>52.0</td>\n",
       "      <td>4226.0</td>\n",
       "      <td>1315.0</td>\n",
       "      <td>2619.0</td>\n",
       "      <td>1242.0</td>\n",
       "      <td>2.5755</td>\n",
       "      <td>325000.0</td>\n",
       "    </tr>\n",
       "  </tbody>\n",
       "</table>\n",
       "<p>4128 rows × 9 columns</p>\n",
       "</div>"
      ],
      "text/plain": [
       "       longitude  latitude  housing_median_age  total_rooms  total_bedrooms  \\\n",
       "9221     -120.26     37.13                33.0       1239.0           250.0   \n",
       "10234    -117.91     33.86                26.0       2296.0           570.0   \n",
       "4763     -118.36     34.04                48.0       1769.0           429.0   \n",
       "9062     -118.15     34.69                32.0       1300.0           234.0   \n",
       "1874     -119.97     38.93                24.0        856.0           185.0   \n",
       "...          ...       ...                 ...          ...             ...   \n",
       "11284    -117.96     33.78                35.0       1330.0           201.0   \n",
       "11964    -117.43     34.02                33.0       3084.0           570.0   \n",
       "5390     -118.38     34.03                36.0       2101.0           569.0   \n",
       "860      -121.96     37.58                15.0       3575.0           597.0   \n",
       "15795    -122.42     37.77                52.0       4226.0          1315.0   \n",
       "\n",
       "       population  households  median_income  median_house_value  \n",
       "9221        648.0       227.0         2.0278             58800.0  \n",
       "10234      1415.0       527.0         2.4732            165800.0  \n",
       "4763        993.0       405.0         2.3214            139400.0  \n",
       "9062        712.0       249.0         3.2500            107500.0  \n",
       "1874        388.0       108.0         3.1806            107200.0  \n",
       "...           ...         ...            ...                 ...  \n",
       "11284       658.0       217.0         6.3700            229200.0  \n",
       "11964      1753.0       449.0         3.0500             97800.0  \n",
       "5390       1756.0       527.0         2.9344            222100.0  \n",
       "860        1777.0       559.0         5.7192            283500.0  \n",
       "15795      2619.0      1242.0         2.5755            325000.0  \n",
       "\n",
       "[4128 rows x 9 columns]"
      ]
     },
     "execution_count": 49,
     "metadata": {},
     "output_type": "execute_result"
    }
   ],
   "source": [
    "df_test"
   ]
  },
  {
   "cell_type": "markdown",
   "metadata": {},
   "source": [
    "- **Confirmation**"
   ]
  },
  {
   "cell_type": "code",
   "execution_count": 50,
   "metadata": {},
   "outputs": [
    {
     "data": {
      "text/plain": [
       "(12384, 4128, 4128)"
      ]
     },
     "execution_count": 50,
     "metadata": {},
     "output_type": "execute_result"
    }
   ],
   "source": [
    "len(df_train), len(df_val), len(df_test)"
   ]
  },
  {
   "cell_type": "markdown",
   "metadata": {},
   "source": [
    "- **Drop old indexes**"
   ]
  },
  {
   "cell_type": "code",
   "execution_count": 51,
   "metadata": {},
   "outputs": [],
   "source": [
    "df_train = df_train.reset_index(drop = True)\n",
    "\n",
    "df_val = df_val.reset_index(drop = True)\n",
    "\n",
    "df_test = df_test.reset_index(drop = True)"
   ]
  },
  {
   "cell_type": "markdown",
   "metadata": {},
   "source": [
    "- **Apply the logarithmic function to the target variable median_house_value**\n",
    "\n",
    "- **Get the y vectors for each data set**"
   ]
  },
  {
   "cell_type": "code",
   "execution_count": 53,
   "metadata": {},
   "outputs": [],
   "source": [
    "y_train = np.log1p(df_train['median_house_value'].values)\n",
    "\n",
    "y_val = np.log1p(df_val['median_house_value'].values)\n",
    "\n",
    "y_test = np.log1p(df_test['median_house_value'].values)"
   ]
  },
  {
   "cell_type": "markdown",
   "metadata": {},
   "source": [
    "- **Drop the target variable from the train, val and test**"
   ]
  },
  {
   "cell_type": "code",
   "execution_count": 55,
   "metadata": {},
   "outputs": [],
   "source": [
    "del df_train['median_house_value']\n",
    "\n",
    "del df_val['median_house_value']\n",
    "\n",
    "del df_test['median_house_value']"
   ]
  },
  {
   "cell_type": "markdown",
   "metadata": {},
   "source": [
    "#### Question 3: Better RMSE\n",
    "\n",
    "- We need to deal with missing values for the column from Q1.\n",
    "\n",
    "- We have two options: fill it with 0 or with the mean of this variable.\n",
    "\n",
    "- Try both options. For each, train a linear regression model without regularization using the code from the lessons.\n",
    "\n",
    "- For computing the mean, use the training only!\n",
    "\n",
    "- Use the validation dataset to evaluate the models and compare the RMSE of each option.\n",
    "\n",
    "- Round the RMSE scores to 2 decimal digits using round(score, 2)\n",
    "\n",
    "- Which option gives better RMSE?\n",
    "\n",
    "    - With 0\n",
    "    - With mean\n",
    "    - Both are equally good"
   ]
  },
  {
   "cell_type": "markdown",
   "metadata": {},
   "source": [
    "- **Mean of total bedrooms**"
   ]
  },
  {
   "cell_type": "code",
   "execution_count": 58,
   "metadata": {},
   "outputs": [
    {
     "data": {
      "text/plain": [
       "533"
      ]
     },
     "execution_count": 58,
     "metadata": {},
     "output_type": "execute_result"
    }
   ],
   "source": [
    "mean_total_bedrooms = int(df_train['total_bedrooms'].mean())\n",
    "mean_total_bedrooms"
   ]
  },
  {
   "cell_type": "markdown",
   "metadata": {},
   "source": [
    "- The only preprocessing to be done is filling the missing values\n",
    "\n",
    "- Add that step and retrieve the matrix X"
   ]
  },
  {
   "cell_type": "code",
   "execution_count": 65,
   "metadata": {},
   "outputs": [],
   "source": [
    "def prepare_X(df, fill_na_value):\n",
    "    df = df.copy()\n",
    "    \n",
    "    df = df.fillna(fill_na_value)\n",
    "    \n",
    "    X = df.values\n",
    "    \n",
    "    return X"
   ]
  },
  {
   "cell_type": "markdown",
   "metadata": {},
   "source": [
    "- **Define the function to train linear regression**"
   ]
  },
  {
   "cell_type": "code",
   "execution_count": 60,
   "metadata": {},
   "outputs": [],
   "source": [
    "def train_linear_regression(X, y):\n",
    "    ones = np.ones(X.shape[0])\n",
    "    \n",
    "    X = np.column_stack([ones, X])\n",
    "    \n",
    "    XTX = X.T.dot(X)\n",
    "    XTX_inv = np.linalg.inv(XTX)\n",
    "    w = XTX_inv.dot(X.T).dot(y)\n",
    "    \n",
    "    return w[0], w[1:]"
   ]
  },
  {
   "cell_type": "markdown",
   "metadata": {},
   "source": [
    "- **Define the function to obtain the RMSE**"
   ]
  },
  {
   "cell_type": "code",
   "execution_count": 61,
   "metadata": {},
   "outputs": [],
   "source": [
    "def rmse(y, y_pred):\n",
    "    error = y - y_pred\n",
    "    \n",
    "    mse = (error ** 2).mean()\n",
    "    \n",
    "    return np.sqrt((mse))"
   ]
  },
  {
   "cell_type": "markdown",
   "metadata": {},
   "source": [
    "---"
   ]
  },
  {
   "cell_type": "markdown",
   "metadata": {},
   "source": [
    "**With the mean of total bedrooms**"
   ]
  },
  {
   "cell_type": "markdown",
   "metadata": {},
   "source": [
    "- Prepare train data set with the mean of total bedrooms"
   ]
  },
  {
   "cell_type": "code",
   "execution_count": 69,
   "metadata": {},
   "outputs": [
    {
     "data": {
      "text/plain": [
       "array([[-1.1901e+02,  3.6060e+01,  2.5000e+01, ...,  1.3920e+03,\n",
       "         3.5900e+02,  1.6812e+00],\n",
       "       [-1.1946e+02,  3.5140e+01,  3.0000e+01, ...,  1.5650e+03,\n",
       "         5.8400e+02,  2.5313e+00],\n",
       "       [-1.2244e+02,  3.7800e+01,  5.2000e+01, ...,  1.3100e+03,\n",
       "         9.6300e+02,  3.4801e+00],\n",
       "       ...,\n",
       "       [-1.2091e+02,  3.8980e+01,  1.3000e+01, ...,  3.2640e+03,\n",
       "         1.1980e+03,  3.6530e+00],\n",
       "       [-1.1772e+02,  3.4090e+01,  3.6000e+01, ...,  7.8500e+02,\n",
       "         2.9900e+02,  3.2566e+00],\n",
       "       [-1.2247e+02,  3.7760e+01,  3.4000e+01, ...,  1.1520e+03,\n",
       "         4.4500e+02,  5.1893e+00]])"
      ]
     },
     "execution_count": 69,
     "metadata": {},
     "output_type": "execute_result"
    }
   ],
   "source": [
    "X_train_mean = prepare_X(df_train, fill_na_value = mean_total_bedrooms)\n",
    "X_train_mean"
   ]
  },
  {
   "cell_type": "markdown",
   "metadata": {},
   "source": [
    "- Train the model"
   ]
  },
  {
   "cell_type": "code",
   "execution_count": 71,
   "metadata": {},
   "outputs": [
    {
     "data": {
      "text/plain": [
       "(-11.759577315100275,\n",
       " array([-2.76809520e-01, -2.82182042e-01,  2.93034361e-03, -1.48544662e-05,\n",
       "         2.48048682e-04, -2.03763332e-04,  4.87010174e-04,  1.73086572e-01]))"
      ]
     },
     "execution_count": 71,
     "metadata": {},
     "output_type": "execute_result"
    }
   ],
   "source": [
    "w0_mean, w_mean = train_linear_regression(X_train_mean, y_train)\n",
    "w0_mean, w_mean"
   ]
  },
  {
   "cell_type": "markdown",
   "metadata": {},
   "source": [
    "- Prepare the validation data set"
   ]
  },
  {
   "cell_type": "code",
   "execution_count": 72,
   "metadata": {},
   "outputs": [
    {
     "data": {
      "text/plain": [
       "array([[-1.2085e+02,  3.7510e+01,  1.5000e+01, ...,  7.2800e+02,\n",
       "         2.8100e+02,  1.5531e+00],\n",
       "       [-1.1825e+02,  3.4090e+01,  5.2000e+01, ...,  1.2110e+03,\n",
       "         4.1700e+02,  2.9350e+00],\n",
       "       [-1.2202e+02,  3.7310e+01,  3.4000e+01, ...,  1.3010e+03,\n",
       "         4.3100e+02,  6.0830e+00],\n",
       "       ...,\n",
       "       [-1.2071e+02,  3.8340e+01,  1.6000e+01, ...,  5.5900e+02,\n",
       "         2.1300e+02,  4.4531e+00],\n",
       "       [-1.1713e+02,  3.2910e+01,  1.6000e+01, ...,  1.6190e+03,\n",
       "         5.8400e+02,  4.0000e+00],\n",
       "       [-1.1793e+02,  3.3710e+01,  1.0000e+01, ...,  1.5810e+03,\n",
       "         6.3300e+02,  4.1366e+00]])"
      ]
     },
     "execution_count": 72,
     "metadata": {},
     "output_type": "execute_result"
    }
   ],
   "source": [
    "X_val_mean = prepare_X(df_val, fill_na_value = mean_total_bedrooms)\n",
    "X_val_mean"
   ]
  },
  {
   "cell_type": "markdown",
   "metadata": {},
   "source": [
    "- Apply the model"
   ]
  },
  {
   "cell_type": "code",
   "execution_count": 74,
   "metadata": {},
   "outputs": [
    {
     "data": {
      "text/plain": [
       "array([11.46338435, 12.0591399 , 12.65418364, ..., 11.68135435,\n",
       "       12.1740501 , 12.2402635 ])"
      ]
     },
     "execution_count": 74,
     "metadata": {},
     "output_type": "execute_result"
    }
   ],
   "source": [
    "y_mean_pred = w0_mean + X_val_mean.dot(w_mean)\n",
    "y_mean_pred"
   ]
  },
  {
   "cell_type": "markdown",
   "metadata": {},
   "source": [
    "- Compute the RMSE"
   ]
  },
  {
   "cell_type": "code",
   "execution_count": 77,
   "metadata": {},
   "outputs": [
    {
     "data": {
      "text/plain": [
       "0.33"
      ]
     },
     "execution_count": 77,
     "metadata": {},
     "output_type": "execute_result"
    }
   ],
   "source": [
    "np.round(rmse(y_val, y_mean_pred), 2)"
   ]
  },
  {
   "cell_type": "code",
   "execution_count": 105,
   "metadata": {},
   "outputs": [
    {
     "data": {
      "text/plain": [
       "<matplotlib.axes._subplots.AxesSubplot at 0x2452dfc7a60>"
      ]
     },
     "execution_count": 105,
     "metadata": {},
     "output_type": "execute_result"
    },
    {
     "data": {
      "image/png": "[encoded data removed]",
      "text/plain": [
       "<Figure size 432x288 with 1 Axes>"
      ]
     },
     "metadata": {
      "needs_background": "light"
     },
     "output_type": "display_data"
    }
   ],
   "source": [
    "sns.histplot(y_mean_pred, color = 'red', alpha = 0.5, bins = 50)\n",
    "sns.histplot(y_val, color = 'blue', alpha = 0.5, bins = 50)"
   ]
  },
  {
   "cell_type": "markdown",
   "metadata": {},
   "source": [
    "---"
   ]
  },
  {
   "cell_type": "markdown",
   "metadata": {},
   "source": [
    "**With the missing values = 0**"
   ]
  },
  {
   "cell_type": "markdown",
   "metadata": {},
   "source": [
    "- Preprocessing"
   ]
  },
  {
   "cell_type": "code",
   "execution_count": 78,
   "metadata": {},
   "outputs": [
    {
     "data": {
      "text/plain": [
       "array([[-1.1901e+02,  3.6060e+01,  2.5000e+01, ...,  1.3920e+03,\n",
       "         3.5900e+02,  1.6812e+00],\n",
       "       [-1.1946e+02,  3.5140e+01,  3.0000e+01, ...,  1.5650e+03,\n",
       "         5.8400e+02,  2.5313e+00],\n",
       "       [-1.2244e+02,  3.7800e+01,  5.2000e+01, ...,  1.3100e+03,\n",
       "         9.6300e+02,  3.4801e+00],\n",
       "       ...,\n",
       "       [-1.2091e+02,  3.8980e+01,  1.3000e+01, ...,  3.2640e+03,\n",
       "         1.1980e+03,  3.6530e+00],\n",
       "       [-1.1772e+02,  3.4090e+01,  3.6000e+01, ...,  7.8500e+02,\n",
       "         2.9900e+02,  3.2566e+00],\n",
       "       [-1.2247e+02,  3.7760e+01,  3.4000e+01, ...,  1.1520e+03,\n",
       "         4.4500e+02,  5.1893e+00]])"
      ]
     },
     "execution_count": 78,
     "metadata": {},
     "output_type": "execute_result"
    }
   ],
   "source": [
    "X_train_zero = prepare_X(df_train, fill_na_value = 0)\n",
    "X_train_zero"
   ]
  },
  {
   "cell_type": "markdown",
   "metadata": {},
   "source": [
    "- Train the model"
   ]
  },
  {
   "cell_type": "code",
   "execution_count": 81,
   "metadata": {},
   "outputs": [
    {
     "data": {
      "text/plain": [
       "(-11.686975241778395,\n",
       " array([-2.76255120e-01, -2.82087184e-01,  2.91329621e-03, -8.64531514e-06,\n",
       "         1.50811922e-04, -2.08205659e-04,  5.69546573e-04,  1.71308139e-01]))"
      ]
     },
     "execution_count": 81,
     "metadata": {},
     "output_type": "execute_result"
    }
   ],
   "source": [
    "w0_zero, w_zero = train_linear_regression(X_train_zero, y_train)\n",
    "w0_zero, w_zero"
   ]
  },
  {
   "cell_type": "markdown",
   "metadata": {},
   "source": [
    "- Prepare the validation data set"
   ]
  },
  {
   "cell_type": "code",
   "execution_count": 82,
   "metadata": {},
   "outputs": [
    {
     "data": {
      "text/plain": [
       "array([[-1.2085e+02,  3.7510e+01,  1.5000e+01, ...,  7.2800e+02,\n",
       "         2.8100e+02,  1.5531e+00],\n",
       "       [-1.1825e+02,  3.4090e+01,  5.2000e+01, ...,  1.2110e+03,\n",
       "         4.1700e+02,  2.9350e+00],\n",
       "       [-1.2202e+02,  3.7310e+01,  3.4000e+01, ...,  1.3010e+03,\n",
       "         4.3100e+02,  6.0830e+00],\n",
       "       ...,\n",
       "       [-1.2071e+02,  3.8340e+01,  1.6000e+01, ...,  5.5900e+02,\n",
       "         2.1300e+02,  4.4531e+00],\n",
       "       [-1.1713e+02,  3.2910e+01,  1.6000e+01, ...,  1.6190e+03,\n",
       "         5.8400e+02,  4.0000e+00],\n",
       "       [-1.1793e+02,  3.3710e+01,  1.0000e+01, ...,  1.5810e+03,\n",
       "         6.3300e+02,  4.1366e+00]])"
      ]
     },
     "execution_count": 82,
     "metadata": {},
     "output_type": "execute_result"
    }
   ],
   "source": [
    "X_val_zero = prepare_X(df_val, fill_na_value = 0)\n",
    "X_val_zero"
   ]
  },
  {
   "cell_type": "markdown",
   "metadata": {},
   "source": [
    "- Apply the model"
   ]
  },
  {
   "cell_type": "code",
   "execution_count": 84,
   "metadata": {},
   "outputs": [
    {
     "data": {
      "text/plain": [
       "array([11.46879627, 12.05823471, 12.65529319, ..., 11.68291953,\n",
       "       12.17882297, 12.23588954])"
      ]
     },
     "execution_count": 84,
     "metadata": {},
     "output_type": "execute_result"
    }
   ],
   "source": [
    "y_zero_pred = w0_zero + X_val_zero.dot(w_zero)\n",
    "y_zero_pred"
   ]
  },
  {
   "cell_type": "markdown",
   "metadata": {},
   "source": [
    "- Compute the RMSE"
   ]
  },
  {
   "cell_type": "code",
   "execution_count": 85,
   "metadata": {},
   "outputs": [
    {
     "data": {
      "text/plain": [
       "0.33"
      ]
     },
     "execution_count": 85,
     "metadata": {},
     "output_type": "execute_result"
    }
   ],
   "source": [
    "np.round(rmse(y_val, y_zero_pred), 2)"
   ]
  },
  {
   "cell_type": "code",
   "execution_count": 106,
   "metadata": {},
   "outputs": [
    {
     "data": {
      "text/plain": [
       "<matplotlib.axes._subplots.AxesSubplot at 0x2452fbb74f0>"
      ]
     },
     "execution_count": 106,
     "metadata": {},
     "output_type": "execute_result"
    },
    {
     "data": {
      "image/png": "[encoded data removed]",
      "text/plain": [
       "<Figure size 432x288 with 1 Axes>"
      ]
     },
     "metadata": {
      "needs_background": "light"
     },
     "output_type": "display_data"
    }
   ],
   "source": [
    "sns.histplot(y_zero_pred, color = 'red', alpha = 0.5, bins = 50)\n",
    "sns.histplot(y_val, color = 'blue', alpha = 0.5, bins = 50)"
   ]
  },
  {
   "cell_type": "markdown",
   "metadata": {},
   "source": [
    "- **Both solution presented the same Root Mean Squared Error**"
   ]
  },
  {
   "cell_type": "markdown",
   "metadata": {},
   "source": [
    "#### Question 4: Best RMSE (regularization)\n",
    "\n",
    "- Now let's train a regularized linear regression.\n",
    "\n",
    "- For this question, fill the NAs with 0.\n",
    "\n",
    "- Try different values of r from this list: [0, 0.000001, 0.0001, 0.001, 0.01, 0.1, 1, 5, 10].\n",
    "\n",
    "- Use RMSE to evaluate the model on the validation dataset.\n",
    "\n",
    "- Round the RMSE scores to 2 decimal digits.\n",
    "\n",
    "- Which r gives the best RMSE?\n",
    "\n",
    "    - 0\n",
    "    - 0.000001\n",
    "    - 0.001\n",
    "    - 0.0001"
   ]
  },
  {
   "cell_type": "markdown",
   "metadata": {},
   "source": [
    "Prepare_X does not need to be changed. Lets just add the regularization parameter to the function in which the model is trained"
   ]
  },
  {
   "cell_type": "code",
   "execution_count": 86,
   "metadata": {},
   "outputs": [],
   "source": [
    "def train_linear_regression_reg(X, y, r):\n",
    "    ones = np.ones(X.shape[0])\n",
    "    X = np.column_stack([ones, X])\n",
    "    \n",
    "    XTX = X.T.dot(X)\n",
    "    reg = r * np.eye(XTX.shape[0])\n",
    "    XTX = XTX + reg\n",
    "    \n",
    "    XTX_inv = np.linalg.inv(XTX)\n",
    "    w = XTX_inv.dot(X.T).dot(y)\n",
    "    \n",
    "    return w[0], w[1:]"
   ]
  },
  {
   "cell_type": "code",
   "execution_count": 89,
   "metadata": {},
   "outputs": [
    {
     "name": "stdout",
     "output_type": "stream",
     "text": [
      "0 -11.686975241778395 0.33\n",
      "1e-06 -11.68695917580313 0.33\n",
      "0.0001 -11.685368865117923 0.33\n",
      "0.001 -11.67093131829089 0.33\n",
      "0.01 -11.528493585779703 0.33\n",
      "0.1 -10.274500282053182 0.33\n",
      "1 -4.920480897753718 0.33\n",
      "5 -1.482095745545433 0.34\n",
      "10 -0.7899311831749203 0.34\n"
     ]
    }
   ],
   "source": [
    "for r in [0, 0.000001, 0.0001, 0.001, 0.01, 0.1, 1, 5, 10]:\n",
    "    \n",
    "    w0_zero_reg, w_zero_reg = train_linear_regression_reg(X_train_zero, y_train, r = r)\n",
    "    \n",
    "    y_val_zero_reg = w0_zero_reg + X_val_zero.dot(w_zero_reg)\n",
    "    \n",
    "    rmse_val_zero_reg = np.round(rmse(y_val, y_val_zero_reg), 2)\n",
    "    \n",
    "    print(r, w0_zero_reg, rmse_val_zero_reg)"
   ]
  },
  {
   "cell_type": "markdown",
   "metadata": {},
   "source": [
    "**The best RMSE is given when r = 0.**\n",
    "\n",
    "- Note: If there are multiple options, select the smallest r."
   ]
  },
  {
   "cell_type": "markdown",
   "metadata": {},
   "source": [
    "#### Question 5: Standard Deviation\n",
    "\n",
    "- We used seed 42 for splitting the data. Let's find out how selecting the seed influences our score.\n",
    "\n",
    "- Try different seed values: [0, 1, 2, 3, 4, 5, 6, 7, 8, 9].\n",
    "\n",
    "- For each seed, do the train/validation/test split with 60%/20%/20% distribution.\n",
    "\n",
    "- Fill the missing values with 0 and train a model without regularization.\n",
    "\n",
    "- For each seed, evaluate the model on the validation dataset and collect the RMSE scores.\n",
    "\n",
    "- What's the standard deviation of all the scores? To compute the standard deviation, use np.std.\n",
    "\n",
    "- Round the result to 3 decimal digits (round(std, 3))\n",
    "\n",
    "\n",
    "- **Note:** *Standard deviation shows how different the values are. If it's low, then all values are approximately the same. If it's high, the values are different. If standard deviation of scores is low, then our model is stable.*"
   ]
  },
  {
   "cell_type": "code",
   "execution_count": 91,
   "metadata": {},
   "outputs": [
    {
     "data": {
      "text/html": [
       "<div>\n",
       "<style scoped>\n",
       "    .dataframe tbody tr th:only-of-type {\n",
       "        vertical-align: middle;\n",
       "    }\n",
       "\n",
       "    .dataframe tbody tr th {\n",
       "        vertical-align: top;\n",
       "    }\n",
       "\n",
       "    .dataframe thead th {\n",
       "        text-align: right;\n",
       "    }\n",
       "</style>\n",
       "<table border=\"1\" class=\"dataframe\">\n",
       "  <thead>\n",
       "    <tr style=\"text-align: right;\">\n",
       "      <th></th>\n",
       "      <th>longitude</th>\n",
       "      <th>latitude</th>\n",
       "      <th>housing_median_age</th>\n",
       "      <th>total_rooms</th>\n",
       "      <th>total_bedrooms</th>\n",
       "      <th>population</th>\n",
       "      <th>households</th>\n",
       "      <th>median_income</th>\n",
       "      <th>median_house_value</th>\n",
       "    </tr>\n",
       "  </thead>\n",
       "  <tbody>\n",
       "    <tr>\n",
       "      <th>0</th>\n",
       "      <td>-122.23</td>\n",
       "      <td>37.88</td>\n",
       "      <td>41.0</td>\n",
       "      <td>880.0</td>\n",
       "      <td>129.0</td>\n",
       "      <td>322.0</td>\n",
       "      <td>126.0</td>\n",
       "      <td>8.3252</td>\n",
       "      <td>452600.0</td>\n",
       "    </tr>\n",
       "    <tr>\n",
       "      <th>1</th>\n",
       "      <td>-122.22</td>\n",
       "      <td>37.86</td>\n",
       "      <td>21.0</td>\n",
       "      <td>7099.0</td>\n",
       "      <td>1106.0</td>\n",
       "      <td>2401.0</td>\n",
       "      <td>1138.0</td>\n",
       "      <td>8.3014</td>\n",
       "      <td>358500.0</td>\n",
       "    </tr>\n",
       "  </tbody>\n",
       "</table>\n",
       "</div>"
      ],
      "text/plain": [
       "   longitude  latitude  housing_median_age  total_rooms  total_bedrooms  \\\n",
       "0    -122.23     37.88                41.0        880.0           129.0   \n",
       "1    -122.22     37.86                21.0       7099.0          1106.0   \n",
       "\n",
       "   population  households  median_income  median_house_value  \n",
       "0       322.0       126.0         8.3252            452600.0  \n",
       "1      2401.0      1138.0         8.3014            358500.0  "
      ]
     },
     "execution_count": 91,
     "metadata": {},
     "output_type": "execute_result"
    }
   ],
   "source": [
    "df.head(2)"
   ]
  },
  {
   "cell_type": "code",
   "execution_count": 101,
   "metadata": {},
   "outputs": [
    {
     "name": "stdout",
     "output_type": "stream",
     "text": [
      "0 -11.900382139152786 0.74\n",
      "1 -11.732757373716758 0.74\n",
      "2 -11.806729361591437 0.73\n",
      "3 -11.587900348571463 0.73\n",
      "4 -11.389470588981698 0.73\n",
      "5 -11.447114276602369 0.74\n",
      "6 -11.370516352746764 0.72\n",
      "7 -12.473448918641303 0.73\n",
      "8 -11.800287429878992 0.72\n",
      "9 -11.459046830537012 0.72\n"
     ]
    }
   ],
   "source": [
    "rmse_list = []\n",
    "\n",
    "for r in [0, 1, 2, 3, 4, 5, 6, 7, 8, 9]:\n",
    "    \n",
    "    ################### SHUFFLE AND SPLIT THE DATA ###################\n",
    "    \n",
    "    idx = np.arange(n)\n",
    "    np.random.seed(r)\n",
    "    np.random.shuffle(idx)\n",
    "    \n",
    "    df_shuffled_new = df.iloc[idx]\n",
    "    \n",
    "    # We already have the values for the sizes of the splits (n_train, n_val and n_test)\n",
    "        \n",
    "    df_train_new = df_shuffled_new.iloc[:n_train].copy()\n",
    "    df_val_new = df_shuffled_new.iloc[n_train:n_train + n_val].copy()\n",
    "    df_test_new = df_shuffled_new.iloc[n_train + n_val:].copy()\n",
    "\n",
    "    df_train_new = df_train_new.reset_index(drop = True)\n",
    "    df_val_new = df_val_new.reset_index(drop = True)\n",
    "    df_test_new = df_test_new.reset_index(drop =True)\n",
    "    \n",
    "    y_train_new = np.log1p(df_train_new['median_house_value'].values)\n",
    "    y_val_new = np.log1p(df_val_new['median_house_value'].values)\n",
    "    y_test_new = np.log1p(df_test_new['median_house_value'].values)\n",
    "    \n",
    "    del df_train_new['median_house_value']\n",
    "    del df_val_new['median_house_value']\n",
    "    del df_test_new['median_house_value']\n",
    "    \n",
    "    ################### TRAIN THE MODEL ###################\n",
    "    \n",
    "    X_train_zero_new = prepare_X(df_train_new, fill_na_value = 0)\n",
    "    w0_zero_new, w_zero_new = train_linear_regression(X_train_zero_new, y_train_new)\n",
    "    \n",
    "    ################### APPLY THE MODEL TO THE VALIDATION DATA SET ###################\n",
    "    \n",
    "    X_val_zero_new = prepare_X(df_val_new, fill_na_value = 0)\n",
    "    y_val_zero_new = w0_zero_new + X_val_zero_new.dot(w_zero_new)\n",
    "    \n",
    "    ################### COMPUTE THE RMSE ###################\n",
    "    \n",
    "    rmse_val_zero_new = np.round(rmse(y_val, y_val_zero_new), 2)\n",
    "    \n",
    "    rmse_list.append(rmse_val_zero_new)\n",
    "    \n",
    "    print(r, w0_zero_new, rmse_val_zero_new)"
   ]
  },
  {
   "cell_type": "markdown",
   "metadata": {},
   "source": [
    "- **Compute the standard deviation of all scores**"
   ]
  },
  {
   "cell_type": "code",
   "execution_count": 102,
   "metadata": {},
   "outputs": [
    {
     "data": {
      "text/plain": [
       "[0.74, 0.74, 0.73, 0.73, 0.73, 0.74, 0.72, 0.73, 0.72, 0.72]"
      ]
     },
     "execution_count": 102,
     "metadata": {},
     "output_type": "execute_result"
    }
   ],
   "source": [
    "rmse_list"
   ]
  },
  {
   "cell_type": "code",
   "execution_count": 103,
   "metadata": {},
   "outputs": [
    {
     "data": {
      "text/plain": [
       "0.007745966692414842"
      ]
     },
     "execution_count": 103,
     "metadata": {},
     "output_type": "execute_result"
    }
   ],
   "source": [
    "np.std(rmse_list)"
   ]
  },
  {
   "cell_type": "code",
   "execution_count": 104,
   "metadata": {},
   "outputs": [
    {
     "data": {
      "text/plain": [
       "0.008"
      ]
     },
     "execution_count": 104,
     "metadata": {},
     "output_type": "execute_result"
    }
   ],
   "source": [
    "round(np.std(rmse_list), 3)"
   ]
  },
  {
   "cell_type": "markdown",
   "metadata": {},
   "source": [
    "#### Question 6: RMSE on the test set\n",
    "\n",
    "- Split the dataset like previously, use seed 9.\n",
    "\n",
    "- Combine train and validation datasets.\n",
    "\n",
    "- Fill the missing values with 0 and train a model with r=0.001.\n",
    "\n",
    "- What's the RMSE on the test dataset?\n",
    "\n",
    "    - 0.35\n",
    "    - 0.135\n",
    "    - 0.450\n",
    "    - 0.245"
   ]
  },
  {
   "cell_type": "markdown",
   "metadata": {},
   "source": [
    "- **Split the data set using seed 9**"
   ]
  },
  {
   "cell_type": "code",
   "execution_count": 108,
   "metadata": {},
   "outputs": [
    {
     "data": {
      "text/plain": [
       "array([    0,     1,     2, ..., 20637, 20638, 20639])"
      ]
     },
     "execution_count": 108,
     "metadata": {},
     "output_type": "execute_result"
    }
   ],
   "source": [
    "idx = np.arange(n)\n",
    "idx"
   ]
  },
  {
   "cell_type": "code",
   "execution_count": 109,
   "metadata": {},
   "outputs": [],
   "source": [
    "np.random.seed(9)\n",
    "np.random.shuffle(idx)"
   ]
  },
  {
   "cell_type": "code",
   "execution_count": 110,
   "metadata": {},
   "outputs": [
    {
     "data": {
      "text/plain": [
       "array([20558, 11430,  2656, ...,  5014,  9979,   501])"
      ]
     },
     "execution_count": 110,
     "metadata": {},
     "output_type": "execute_result"
    }
   ],
   "source": [
    "idx"
   ]
  },
  {
   "cell_type": "code",
   "execution_count": 112,
   "metadata": {},
   "outputs": [
    {
     "data": {
      "text/html": [
       "<div>\n",
       "<style scoped>\n",
       "    .dataframe tbody tr th:only-of-type {\n",
       "        vertical-align: middle;\n",
       "    }\n",
       "\n",
       "    .dataframe tbody tr th {\n",
       "        vertical-align: top;\n",
       "    }\n",
       "\n",
       "    .dataframe thead th {\n",
       "        text-align: right;\n",
       "    }\n",
       "</style>\n",
       "<table border=\"1\" class=\"dataframe\">\n",
       "  <thead>\n",
       "    <tr style=\"text-align: right;\">\n",
       "      <th></th>\n",
       "      <th>longitude</th>\n",
       "      <th>latitude</th>\n",
       "      <th>housing_median_age</th>\n",
       "      <th>total_rooms</th>\n",
       "      <th>total_bedrooms</th>\n",
       "      <th>population</th>\n",
       "      <th>households</th>\n",
       "      <th>median_income</th>\n",
       "      <th>median_house_value</th>\n",
       "    </tr>\n",
       "  </thead>\n",
       "  <tbody>\n",
       "    <tr>\n",
       "      <th>20558</th>\n",
       "      <td>-121.80</td>\n",
       "      <td>38.67</td>\n",
       "      <td>10.0</td>\n",
       "      <td>2086.0</td>\n",
       "      <td>380.0</td>\n",
       "      <td>1073.0</td>\n",
       "      <td>378.0</td>\n",
       "      <td>4.5526</td>\n",
       "      <td>154400.0</td>\n",
       "    </tr>\n",
       "    <tr>\n",
       "      <th>11430</th>\n",
       "      <td>-117.97</td>\n",
       "      <td>33.66</td>\n",
       "      <td>22.0</td>\n",
       "      <td>3914.0</td>\n",
       "      <td>600.0</td>\n",
       "      <td>1871.0</td>\n",
       "      <td>607.0</td>\n",
       "      <td>5.8541</td>\n",
       "      <td>281500.0</td>\n",
       "    </tr>\n",
       "    <tr>\n",
       "      <th>2656</th>\n",
       "      <td>-124.25</td>\n",
       "      <td>40.28</td>\n",
       "      <td>32.0</td>\n",
       "      <td>1430.0</td>\n",
       "      <td>419.0</td>\n",
       "      <td>434.0</td>\n",
       "      <td>187.0</td>\n",
       "      <td>1.9417</td>\n",
       "      <td>76100.0</td>\n",
       "    </tr>\n",
       "    <tr>\n",
       "      <th>14267</th>\n",
       "      <td>-117.11</td>\n",
       "      <td>32.69</td>\n",
       "      <td>37.0</td>\n",
       "      <td>2395.0</td>\n",
       "      <td>627.0</td>\n",
       "      <td>2489.0</td>\n",
       "      <td>599.0</td>\n",
       "      <td>1.5933</td>\n",
       "      <td>86300.0</td>\n",
       "    </tr>\n",
       "    <tr>\n",
       "      <th>3684</th>\n",
       "      <td>-118.37</td>\n",
       "      <td>34.21</td>\n",
       "      <td>36.0</td>\n",
       "      <td>1392.0</td>\n",
       "      <td>326.0</td>\n",
       "      <td>1181.0</td>\n",
       "      <td>303.0</td>\n",
       "      <td>3.1563</td>\n",
       "      <td>176400.0</td>\n",
       "    </tr>\n",
       "    <tr>\n",
       "      <th>...</th>\n",
       "      <td>...</td>\n",
       "      <td>...</td>\n",
       "      <td>...</td>\n",
       "      <td>...</td>\n",
       "      <td>...</td>\n",
       "      <td>...</td>\n",
       "      <td>...</td>\n",
       "      <td>...</td>\n",
       "      <td>...</td>\n",
       "    </tr>\n",
       "    <tr>\n",
       "      <th>4532</th>\n",
       "      <td>-118.21</td>\n",
       "      <td>34.04</td>\n",
       "      <td>47.0</td>\n",
       "      <td>1306.0</td>\n",
       "      <td>391.0</td>\n",
       "      <td>1499.0</td>\n",
       "      <td>346.0</td>\n",
       "      <td>2.2788</td>\n",
       "      <td>139600.0</td>\n",
       "    </tr>\n",
       "    <tr>\n",
       "      <th>4673</th>\n",
       "      <td>-118.35</td>\n",
       "      <td>34.08</td>\n",
       "      <td>52.0</td>\n",
       "      <td>1801.0</td>\n",
       "      <td>313.0</td>\n",
       "      <td>714.0</td>\n",
       "      <td>293.0</td>\n",
       "      <td>4.6838</td>\n",
       "      <td>479000.0</td>\n",
       "    </tr>\n",
       "    <tr>\n",
       "      <th>5014</th>\n",
       "      <td>-118.32</td>\n",
       "      <td>34.00</td>\n",
       "      <td>50.0</td>\n",
       "      <td>3250.0</td>\n",
       "      <td>693.0</td>\n",
       "      <td>2300.0</td>\n",
       "      <td>675.0</td>\n",
       "      <td>1.9500</td>\n",
       "      <td>112600.0</td>\n",
       "    </tr>\n",
       "    <tr>\n",
       "      <th>9979</th>\n",
       "      <td>-122.27</td>\n",
       "      <td>38.68</td>\n",
       "      <td>18.0</td>\n",
       "      <td>742.0</td>\n",
       "      <td>142.0</td>\n",
       "      <td>343.0</td>\n",
       "      <td>119.0</td>\n",
       "      <td>3.1563</td>\n",
       "      <td>98400.0</td>\n",
       "    </tr>\n",
       "    <tr>\n",
       "      <th>501</th>\n",
       "      <td>-122.27</td>\n",
       "      <td>37.85</td>\n",
       "      <td>52.0</td>\n",
       "      <td>335.0</td>\n",
       "      <td>83.0</td>\n",
       "      <td>152.0</td>\n",
       "      <td>77.0</td>\n",
       "      <td>2.2841</td>\n",
       "      <td>106300.0</td>\n",
       "    </tr>\n",
       "  </tbody>\n",
       "</table>\n",
       "<p>20640 rows × 9 columns</p>\n",
       "</div>"
      ],
      "text/plain": [
       "       longitude  latitude  housing_median_age  total_rooms  total_bedrooms  \\\n",
       "20558    -121.80     38.67                10.0       2086.0           380.0   \n",
       "11430    -117.97     33.66                22.0       3914.0           600.0   \n",
       "2656     -124.25     40.28                32.0       1430.0           419.0   \n",
       "14267    -117.11     32.69                37.0       2395.0           627.0   \n",
       "3684     -118.37     34.21                36.0       1392.0           326.0   \n",
       "...          ...       ...                 ...          ...             ...   \n",
       "4532     -118.21     34.04                47.0       1306.0           391.0   \n",
       "4673     -118.35     34.08                52.0       1801.0           313.0   \n",
       "5014     -118.32     34.00                50.0       3250.0           693.0   \n",
       "9979     -122.27     38.68                18.0        742.0           142.0   \n",
       "501      -122.27     37.85                52.0        335.0            83.0   \n",
       "\n",
       "       population  households  median_income  median_house_value  \n",
       "20558      1073.0       378.0         4.5526            154400.0  \n",
       "11430      1871.0       607.0         5.8541            281500.0  \n",
       "2656        434.0       187.0         1.9417             76100.0  \n",
       "14267      2489.0       599.0         1.5933             86300.0  \n",
       "3684       1181.0       303.0         3.1563            176400.0  \n",
       "...           ...         ...            ...                 ...  \n",
       "4532       1499.0       346.0         2.2788            139600.0  \n",
       "4673        714.0       293.0         4.6838            479000.0  \n",
       "5014       2300.0       675.0         1.9500            112600.0  \n",
       "9979        343.0       119.0         3.1563             98400.0  \n",
       "501         152.0        77.0         2.2841            106300.0  \n",
       "\n",
       "[20640 rows x 9 columns]"
      ]
     },
     "execution_count": 112,
     "metadata": {},
     "output_type": "execute_result"
    }
   ],
   "source": [
    "df_shuffled_final = df.iloc[idx]\n",
    "df_shuffled_final"
   ]
  },
  {
   "cell_type": "code",
   "execution_count": 113,
   "metadata": {},
   "outputs": [],
   "source": [
    "df_train_final = df_shuffled_final.iloc[:n_train]\n",
    "\n",
    "df_val_final = df_shuffled_final.iloc[n_train:n_train+n_val]\n",
    "\n",
    "df_test_final = df_shuffled_final.iloc[n_train+n_val:]"
   ]
  },
  {
   "cell_type": "markdown",
   "metadata": {},
   "source": [
    "- **Combine train and validation data sets**"
   ]
  },
  {
   "cell_type": "code",
   "execution_count": 115,
   "metadata": {},
   "outputs": [],
   "source": [
    "df_full_train_final = pd.concat([df_train_final, df_val_final])"
   ]
  },
  {
   "cell_type": "markdown",
   "metadata": {},
   "source": [
    "- Drop the indexes"
   ]
  },
  {
   "cell_type": "code",
   "execution_count": 116,
   "metadata": {},
   "outputs": [],
   "source": [
    "df_full_train_final = df_full_train_final.reset_index(drop = True)\n",
    "\n",
    "df_test_final = df_test_final.reset_index(drop = True)"
   ]
  },
  {
   "cell_type": "markdown",
   "metadata": {},
   "source": [
    "- Get the target variables"
   ]
  },
  {
   "cell_type": "code",
   "execution_count": 117,
   "metadata": {},
   "outputs": [],
   "source": [
    "y_full_train_final = np.log1p(df_full_train_final['median_house_value'].values)\n",
    "\n",
    "y_test_final = np.log1p(df_test_final['median_house_value'].values)"
   ]
  },
  {
   "cell_type": "code",
   "execution_count": 118,
   "metadata": {},
   "outputs": [],
   "source": [
    "del df_full_train_final['median_house_value']\n",
    "\n",
    "del df_test_final['median_house_value']"
   ]
  },
  {
   "cell_type": "markdown",
   "metadata": {},
   "source": [
    "- **Fill the missing values with 0 and train a model with r=0.001**"
   ]
  },
  {
   "cell_type": "code",
   "execution_count": 119,
   "metadata": {},
   "outputs": [],
   "source": [
    "X_full_train_final = prepare_X(df_full_train_final, fill_na_value = 0)\n",
    "\n",
    "w0_final, w_final = train_linear_regression_reg(X_full_train_final, y_full_train_final, r = 0.001)"
   ]
  },
  {
   "cell_type": "markdown",
   "metadata": {},
   "source": [
    "- Prepare the test set"
   ]
  },
  {
   "cell_type": "code",
   "execution_count": 121,
   "metadata": {},
   "outputs": [],
   "source": [
    "X_test_final = prepare_X(df_test_final, fill_na_value = 0)"
   ]
  },
  {
   "cell_type": "markdown",
   "metadata": {},
   "source": [
    "- Apply the model to the test set"
   ]
  },
  {
   "cell_type": "code",
   "execution_count": 122,
   "metadata": {},
   "outputs": [
    {
     "data": {
      "text/plain": [
       "array([11.95933247, 12.07080671, 12.62909997, ..., 11.88555154,\n",
       "       11.77454361, 11.9731228 ])"
      ]
     },
     "execution_count": 122,
     "metadata": {},
     "output_type": "execute_result"
    }
   ],
   "source": [
    "y_pred = w0_final + X_test_final.dot(w_final)\n",
    "y_pred"
   ]
  },
  {
   "cell_type": "markdown",
   "metadata": {},
   "source": [
    "- Compute the RMSE"
   ]
  },
  {
   "cell_type": "code",
   "execution_count": 123,
   "metadata": {},
   "outputs": [
    {
     "data": {
      "text/plain": [
       "0.35"
      ]
     },
     "execution_count": 123,
     "metadata": {},
     "output_type": "execute_result"
    }
   ],
   "source": [
    "np.round(rmse(y_test_final, y_pred), 2)"
   ]
  }
 ],
 "metadata": {
  "kernelspec": {
   "display_name": "Python 3",
   "language": "python",
   "name": "python3"
  },
  "language_info": {
   "codemirror_mode": {
    "name": "ipython",
    "version": 3
   },
   "file_extension": ".py",
   "mimetype": "text/x-python",
   "name": "python",
   "nbconvert_exporter": "python",
   "pygments_lexer": "ipython3",
   "version": "3.8.3"
  },
  "toc": {
   "base_numbering": 1,
   "nav_menu": {},
   "number_sections": true,
   "sideBar": true,
   "skip_h1_title": false,
   "title_cell": "Table of Contents",
   "title_sidebar": "Contents",
   "toc_cell": false,
   "toc_position": {
    "height": "calc(100% - 180px)",
    "left": "10px",
    "top": "150px",
    "width": "273.188px"
   },
   "toc_section_display": true,
   "toc_window_display": true
  }
 },
 "nbformat": 4,
 "nbformat_minor": 4
}
